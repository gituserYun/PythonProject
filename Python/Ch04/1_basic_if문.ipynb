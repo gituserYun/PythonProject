{
 "cells": [
  {
   "cell_type": "markdown",
   "metadata": {},
   "source": [
    "> if문"
   ]
  },
  {
   "cell_type": "code",
   "execution_count": 1,
   "metadata": {},
   "outputs": [
    {
     "name": "stdout",
     "output_type": "stream",
     "text": [
      "거짓이므로 이 문장은 안 보이겠죠?\n",
      "프로그램 끝\n"
     ]
    }
   ],
   "source": [
    "# Code05-1.py\n",
    "a = 200\n",
    "\n",
    "if a<100:\n",
    "    print(\"100보다 작군요\")\n",
    "print(\"거짓이므로 이 문장은 안 보이겠죠?\")\n",
    "print(\"프로그램 끝\")"
   ]
  },
  {
   "cell_type": "code",
   "execution_count": 2,
   "metadata": {},
   "outputs": [
    {
     "name": "stdout",
     "output_type": "stream",
     "text": [
      "프로그램 끝\n"
     ]
    }
   ],
   "source": [
    "# Code05-2.py\n",
    "a = 200\n",
    "\n",
    "if a<100:\n",
    "    print(\"100보다 작군요\")\n",
    "    print(\"거짓이므로 이 문장은 안 보이겠죠?\")\n",
    "print(\"프로그램 끝\")"
   ]
  },
  {
   "cell_type": "code",
   "execution_count": 3,
   "metadata": {},
   "outputs": [
    {
     "name": "stdout",
     "output_type": "stream",
     "text": [
      "100보다 크군요.\n"
     ]
    }
   ],
   "source": [
    "# Code05-03.py\n",
    "a = 200\n",
    "\n",
    "if a<100:\n",
    "    print(\"100보다 작군요.\")\n",
    "else:\n",
    "    print(\"100보다 크군요.\")"
   ]
  },
  {
   "cell_type": "code",
   "execution_count": 4,
   "metadata": {},
   "outputs": [
    {
     "name": "stdout",
     "output_type": "stream",
     "text": [
      "100보다 크군요.\n",
      "거짓\n",
      "프로그램 끝\n"
     ]
    }
   ],
   "source": [
    "# Code05-04.py\n",
    "a = 200\n",
    "\n",
    "if a<100:\n",
    "    print(\"100보다 작군요.\")\n",
    "    print(\"참\")\n",
    "else:\n",
    "    print(\"100보다 크군요.\")\n",
    "    print(\"거짓\")\n",
    "print(\"프로그램 끝\")"
   ]
  },
  {
   "cell_type": "code",
   "execution_count": 5,
   "metadata": {},
   "outputs": [
    {
     "name": "stdout",
     "output_type": "stream",
     "text": [
      "짝수\n"
     ]
    }
   ],
   "source": [
    "# Code05-05.py\n",
    "a = int(input(\"정수를 입력하세요: \"))\n",
    "if a % 2 == 0:\n",
    "    print(\"짝수\")\n",
    "else:\n",
    "    print(\"홀수\")"
   ]
  }
 ],
 "metadata": {
  "kernelspec": {
   "display_name": "Python 3",
   "language": "python",
   "name": "python3"
  },
  "language_info": {
   "codemirror_mode": {
    "name": "ipython",
    "version": 3
   },
   "file_extension": ".py",
   "mimetype": "text/x-python",
   "name": "python",
   "nbconvert_exporter": "python",
   "pygments_lexer": "ipython3",
   "version": "3.10.2"
  }
 },
 "nbformat": 4,
 "nbformat_minor": 2
}
