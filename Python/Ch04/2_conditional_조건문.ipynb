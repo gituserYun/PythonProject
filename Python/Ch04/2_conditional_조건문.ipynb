{
 "cells": [
  {
   "cell_type": "markdown",
   "metadata": {},
   "source": [
    "> 조건의 판단: 비교 연산자"
   ]
  },
  {
   "cell_type": "code",
   "execution_count": null,
   "metadata": {},
   "outputs": [],
   "source": [
    "# x < y\n",
    "# x > y\n",
    "# x == y\n",
    "# x is y : 같음(메모리 주소), 메모리 주소가 같은지 검사\n",
    "# x != y : 같지 않음\n",
    "# x is not y : 같지 않음(메모리 주소), 메모리 주소가 같지 않은지 검사\n",
    "# x >= y\n",
    "# x <= y\n",
    "a = 300\n",
    "b = 300\n",
    "print(a==b, a is b)\n",
    "print(id(a), id(b))"
   ]
  },
  {
   "cell_type": "markdown",
   "metadata": {},
   "source": [
    "조건의 판단: True와 False 치환"
   ]
  },
  {
   "cell_type": "code",
   "execution_count": null,
   "metadata": {},
   "outputs": [],
   "source": [
    "# True : 1, False: 0\n",
    "if 1: print(\"True\")\n",
    "else: print(\"False\")\n",
    "\n",
    "print((3>5)<10)"
   ]
  },
  {
   "cell_type": "markdown",
   "metadata": {},
   "source": [
    "조건의 판단: 논리 연산자"
   ]
  },
  {
   "cell_type": "code",
   "execution_count": 2,
   "metadata": {},
   "outputs": [
    {
     "name": "stdout",
     "output_type": "stream",
     "text": [
      "False\n",
      "True\n",
      "False\n"
     ]
    }
   ],
   "source": [
    "a = 8\n",
    "b = 5\n",
    "print(a==8 and b==4)\n",
    "print(a>7 or b>7)\n",
    "print(not(a>7))"
   ]
  }
 ],
 "metadata": {
  "kernelspec": {
   "display_name": "Python 3",
   "language": "python",
   "name": "python3"
  },
  "language_info": {
   "codemirror_mode": {
    "name": "ipython",
    "version": 3
   },
   "file_extension": ".py",
   "mimetype": "text/x-python",
   "name": "python",
   "nbconvert_exporter": "python",
   "pygments_lexer": "ipython3",
   "version": "3.10.2"
  }
 },
 "nbformat": 4,
 "nbformat_minor": 2
}
