{
 "cells": [
  {
   "cell_type": "markdown",
   "metadata": {},
   "source": [
    "Section01 리스트 기본"
   ]
  },
  {
   "cell_type": "code",
   "execution_count": 3,
   "metadata": {},
   "outputs": [
    {
     "name": "stdout",
     "output_type": "stream",
     "text": [
      "[87, 'test', 12.12]\n"
     ]
    }
   ],
   "source": [
    "# 리스트는 정수, 문자열, 실수 등 서로 다른 데이터형도 하나로 묶을 수 있음\n",
    "test_list = [87, 'test', 12.12]\n",
    "print(test_list)"
   ]
  },
  {
   "cell_type": "code",
   "execution_count": 46,
   "metadata": {},
   "outputs": [
    {
     "name": "stdout",
     "output_type": "stream",
     "text": [
      "[1, 2, 3, 4, 5]\n"
     ]
    }
   ],
   "source": [
    "numList = [num for num in range(1,6)]\n",
    "print(numList)"
   ]
  },
  {
   "cell_type": "code",
   "execution_count": 4,
   "metadata": {},
   "outputs": [
    {
     "name": "stdout",
     "output_type": "stream",
     "text": [
      "87 88\n"
     ]
    }
   ],
   "source": [
    "# 항목(item) 또는 요소(element): 리스트를 이루는 원소로 쉼표로 구분된 자료 값\n",
    "score_list = [87, 84, 67, 88, 94, 63]\n",
    "print(score_list[0], score_list[3])"
   ]
  },
  {
   "cell_type": "code",
   "execution_count": 19,
   "metadata": {},
   "outputs": [],
   "source": [
    "# 리스트 자체 삭제\n",
    "aa = [10, 20, 40]\n",
    "# aa = []\n",
    "# print(aa) # []\n",
    "\n",
    "# aa  = None\n",
    "# print(aa) # 아무것도 안 나옴\n",
    "\n",
    "# del(aa[0])\n",
    "# print(aa) # 오류 발생"
   ]
  },
  {
   "cell_type": "code",
   "execution_count": 21,
   "metadata": {},
   "outputs": [
    {
     "name": "stdout",
     "output_type": "stream",
     "text": [
      "합계 ==> 100\n"
     ]
    }
   ],
   "source": [
    "aa = []\n",
    "for i in range(0,4):\n",
    "    aa.append(0)\n",
    "hap = 0\n",
    "\n",
    "for i in range(0,4):\n",
    "    aa[i] = int(input(str(i+1)+\"번째 숫자: \"))\n",
    "\n",
    "### 기본 ###\n",
    "# hap = aa[0] + aa[1] + aa[2] + aa[3]\n",
    "\n",
    "### for문 ###\n",
    "# for i in range(0,4):\n",
    "#     hap += aa[i]\n",
    "\n",
    "### while문 ###\n",
    "i = 3\n",
    "while(i>=0):\n",
    "    hap += aa[i]\n",
    "    i -= 1\n",
    "\n",
    "print(\"합계 ==> %d\"%hap)"
   ]
  },
  {
   "cell_type": "code",
   "execution_count": 1,
   "metadata": {},
   "outputs": [
    {
     "name": "stdout",
     "output_type": "stream",
     "text": [
      "bb[0]에는 198이, bb[99]에는 0이 입력됩니다.\n"
     ]
    }
   ],
   "source": [
    "#리스트 기본\n",
    "aa = []\n",
    "bb = []\n",
    "value = 0\n",
    "\n",
    "for i in range(0,100):\n",
    "    aa.append(value)\n",
    "    value+=2\n",
    "    \n",
    "for i in range(0,100):\n",
    "    bb.append(aa[99 -i])\n",
    "\n",
    "print(\"bb[0]에는 %d이, bb[99]에는 %d이 입력됩니다.\"%(bb[0],bb[99]))\n",
    "\n",
    "#append(), pop(), sort(), reverse(), index(), insert(),remove(), extend(), count(), clear(), del(),\n",
    "#len(), copy(), sorted()\n",
    "  "
   ]
  },
  {
   "cell_type": "code",
   "execution_count": 3,
   "metadata": {},
   "outputs": [
    {
     "name": "stdout",
     "output_type": "stream",
     "text": [
      "aa[-1]은 40, aa[-2]는 30\n"
     ]
    }
   ],
   "source": [
    "#음수 값 접근\n",
    "aa = [10, 20, 30, 40]\n",
    "print(\"aa[-1]은 %d, aa[-2]는 %d\"% (aa[-1], aa[-2]))"
   ]
  },
  {
   "cell_type": "code",
   "execution_count": 4,
   "metadata": {},
   "outputs": [
    {
     "name": "stdout",
     "output_type": "stream",
     "text": [
      "aa + bb = [10, 20, 30, 40, 50, 60]\n",
      "aa * 3 = [10, 20, 30, 10, 20, 30, 10, 20, 30]\n"
     ]
    }
   ],
   "source": [
    "#리스트끼리 덧셈, 곱셈 연산\n",
    "aa = [10, 20, 30]\n",
    "bb = [40, 50, 60]\n",
    "print(f\"aa + bb = {aa + bb}\")\n",
    "print(f\"aa * 3 = {aa * 3}\")"
   ]
  },
  {
   "cell_type": "code",
   "execution_count": 6,
   "metadata": {},
   "outputs": [
    {
     "name": "stdout",
     "output_type": "stream",
     "text": [
      "[30, 40]\n",
      "[10, 20]\n",
      "[10, 20, 30]\n",
      "[30, 40]\n"
     ]
    }
   ],
   "source": [
    "#슬라이싱 지정\n",
    "aa = [10, 20, 30, 40]\n",
    "print(aa[2:])\n",
    "print(aa[:2])\n",
    "print(aa[0:3])\n",
    "print(aa[2:4])"
   ]
  },
  {
   "cell_type": "code",
   "execution_count": 9,
   "metadata": {},
   "outputs": [
    {
     "name": "stdout",
     "output_type": "stream",
     "text": [
      "[10, 30, 50, 70]\n",
      "[70, 50, 30, 10]\n",
      "[70, 60, 50, 40, 30, 20, 10]\n"
     ]
    }
   ],
   "source": [
    "#리스트 항목 건너뛰며 추출\n",
    "aa = [10, 20, 30, 40, 50, 60, 70]\n",
    "print(aa[::2])\n",
    "print(aa[::-2])\n",
    "print(aa[::-1])"
   ]
  },
  {
   "cell_type": "code",
   "execution_count": 15,
   "metadata": {},
   "outputs": [
    {
     "name": "stdout",
     "output_type": "stream",
     "text": [
      "[10, 200, 201, 30]\n",
      "[10, 201, 30]\n",
      "[10]\n"
     ]
    }
   ],
   "source": [
    "#리스트 값 변경\n",
    "aa = [10, 20, 30]\n",
    "aa[1:2] = [200, 201] #a[1]\n",
    "print(aa)\n",
    "\n",
    "#두 번째 aa[1]의 항목 삭제\n",
    "del(aa[1])\n",
    "print(aa)\n",
    "#첫 번째 빼고 a[2]까지 삭제\n",
    "aa[1:3] = []\n",
    "print(aa)"
   ]
  },
  {
   "cell_type": "code",
   "execution_count": 16,
   "metadata": {},
   "outputs": [
    {
     "name": "stdout",
     "output_type": "stream",
     "text": [
      "list.append: [1, 2, 3, 4, 5, [6, 7]]\n",
      "list2.extend: [1, 2, 3, 4, 5, 6, 7]\n"
     ]
    }
   ],
   "source": [
    "#append()와 extend() 차이\n",
    "list1 = [1,2,3,4,5]\n",
    "list1.append([6, 7])\n",
    "print(f\"list1.append: {list1}\")\n",
    "\n",
    "list2 = [1,2,3,4,5]\n",
    "list2.extend([6,7])\n",
    "print(f\"list2.extend: {list2}\")"
   ]
  },
  {
   "cell_type": "code",
   "execution_count": 1,
   "metadata": {},
   "outputs": [
    {
     "name": "stdout",
     "output_type": "stream",
     "text": [
      "[0, 10, 20, 30, 77, 88]\n"
     ]
    }
   ],
   "source": [
    "# 기존 리스트는 변경하지 않고 정렬된 새로운 리스트 생성\n",
    "myList = [30,20,10,77,88,0]\n",
    "newList = sorted(myList)\n",
    "print(newList)\n"
   ]
  },
  {
   "cell_type": "code",
   "execution_count": 4,
   "metadata": {},
   "outputs": [
    {
     "name": "stdout",
     "output_type": "stream",
     "text": [
      "[1, 2, 3]\n",
      "[1, 2, 3, 4, 5, 6, 7, 8, 9]\n",
      "['A', 'B', 'C', 'D', 'E', 'E', 'F']\n"
     ]
    }
   ],
   "source": [
    "# range()나 문자열을 이용하여 리스트 만들기\n",
    "list1 = list() # 빈 리스트 생성1\n",
    "list2 = [] # 빈 리스트 생성2\n",
    "list3 = list((1,2,3)) # 튜플로부터 리스트 생성\n",
    "print(list3)\n",
    "list4 = list(range(1,10))\n",
    "print(list4)\n",
    "list5 = list('ABCDEEF') # 문자열로부터 리스트 생성\n",
    "print(list5)"
   ]
  },
  {
   "cell_type": "code",
   "execution_count": 8,
   "metadata": {},
   "outputs": [
    {
     "name": "stdout",
     "output_type": "stream",
     "text": [
      "[2, 4, 6, 8, 10]\n",
      "[2, 4, 6, 8, 10]\n",
      "['Korea', 'China', 'India', 'Nepal']\n"
     ]
    }
   ],
   "source": [
    "# 1부터 10까지의 숫자 중에서 짝수를 요소로 가지는 even_list라는 리스트를 생성하여라(10을 포함).\n",
    "# print() 함수를 사용하여 이 리스트를 다음과 같이 출력\n",
    "even_list = [2,4,6,8,10]\n",
    "print(even_list)\n",
    "\n",
    "# range() 함수를 이용하여 1번의 문제 다시 풀기\n",
    "even_list = list(range(2,11,2))\n",
    "print(even_list)\n",
    "\n",
    "# 'Korea', 'China', 'India', 'Nepal'의 네 원소를 가지는 netions라는 리스트를 생성하여라.\n",
    "# print() 함수를 사용하여 이 리스트를 다음과 같이 출력\n",
    "netions = ['Korea', 'China', 'India', 'Nepal']\n",
    "print(netions)"
   ]
  },
  {
   "cell_type": "code",
   "execution_count": 12,
   "metadata": {},
   "outputs": [
    {
     "name": "stdout",
     "output_type": "stream",
     "text": [
      "[11, 22, 33, 55, 66]\n",
      "[22, 33, 55, 66]\n"
     ]
    }
   ],
   "source": [
    "# del 키워드로 삭제\n",
    "n_list = [11,22,33,44,55,66]\n",
    "del n_list[3]\n",
    "print(n_list)\n",
    "\n",
    "# remove 메서드로 삭제\n",
    "n_list.remove(11)\n",
    "print(n_list)"
   ]
  },
  {
   "cell_type": "code",
   "execution_count": 13,
   "metadata": {},
   "outputs": [
    {
     "name": "stdout",
     "output_type": "stream",
     "text": [
      "[11, 22, 33, 44, 66]\n"
     ]
    }
   ],
   "source": [
    "# in, not in: 멤버 연산자는 참(True), 혹은 거짓(False)를 반환하는 연산자\n",
    "n_list = [11,22,33,44,55,66]\n",
    "if(55 in n_list):\n",
    "    n_list.remove(55)\n",
    "if(88 in n_list):\n",
    "    n_list.remove(88)\n",
    "print(n_list)"
   ]
  },
  {
   "cell_type": "code",
   "execution_count": 17,
   "metadata": {},
   "outputs": [
    {
     "name": "stdout",
     "output_type": "stream",
     "text": [
      "10\n",
      "50\n",
      "150\n",
      "apple\n",
      "orange\n"
     ]
    }
   ],
   "source": [
    "# 리스트 내장함수\n",
    "# min(), max(), sum()과 같은 파이썬 내장함수의 인자로 리스트 넘겨 연산\n",
    "# lin(): 리스트 내 항목의 개수 반환\n",
    "list1 = [20, 10, 40, 50, 30]\n",
    "print(min(list1))\n",
    "print(max(list1))\n",
    "print(sum(list1))\n",
    "\n",
    "# 문자열이 들어있는 리스트 변수에도 min(), max()는 동작하나 sum은 동작하지 않음\n",
    "fruits = ['banana', 'orange', 'apple', 'kiwi']\n",
    "print(min(fruits))\n",
    "print(max(fruits))\n",
    "print()"
   ]
  },
  {
   "cell_type": "markdown",
   "metadata": {},
   "source": [
    "> 2차원 리스트"
   ]
  },
  {
   "cell_type": "markdown",
   "metadata": {},
   "source": [
    "> 튜플"
   ]
  },
  {
   "cell_type": "code",
   "execution_count": null,
   "metadata": {},
   "outputs": [],
   "source": [
    "# 튜플)\n",
    "# 여러 개의 요소(항목값)를 갖는 컬렉션 자료형\n",
    "# 리스트와 달리 한 번 정해진 요소의 순서를 바꿀 수 없다\n",
    "# 튜플 항목으로 조회 가능\n",
    "# 튜플 내부의 객체를 변경하거나 삭제하는 것도 불가능함\n",
    "# 튜플은 소괄호 ()로 생성\n",
    "# 튜플은 값을 수정할 수 없으며, 읽기만 가능해 읽기 전용 자료를 저장할 때 사용\n",
    "tuple0 = () # 빈 튜플 생성\n",
    "tuple1 = (1,) # 하나의 요소를 가진 튜플 만들기, 반드시 쉼표를 사용해야함 주의\n",
    "tuple2 = (1,2,3,4) # 기본적인 튜플 만들기\n",
    "tuple3 = 1,2,3,4 # 간단한 방식의 튜플 만들기\n",
    "n_list = [1,2,3,4]\n",
    "tuple4 = tuple(n_list) # 리스트로부터 튜플 만들기"
   ]
  },
  {
   "cell_type": "code",
   "execution_count": 18,
   "metadata": {},
   "outputs": [
    {
     "name": "stdout",
     "output_type": "stream",
     "text": [
      "100 <class 'int'>\n",
      "(100,) <class 'tuple'>\n"
     ]
    }
   ],
   "source": [
    "# 하나의 요소를가지는 튜플 선언 주의하기\n",
    "tup = (100)\n",
    "print(tup, type(tup))\n",
    "\n",
    "tup_true = (100,)\n",
    "print(tup_true, type(tup_true))"
   ]
  },
  {
   "cell_type": "code",
   "execution_count": 25,
   "metadata": {},
   "outputs": [
    {
     "name": "stdout",
     "output_type": "stream",
     "text": [
      "<class 'tuple'>\n",
      "Seoul 37.571 126.986 <class 'str'> <class 'float'> <class 'float'>\n"
     ]
    }
   ],
   "source": [
    "# 튜플 패킹과 언패킹\n",
    "\n",
    "# 튜플 패킹(여러 데이터를 튜플로 묶는 것)\n",
    "a = 1,2,3\n",
    "print(type(a))\n",
    "\n",
    "# 튜플 언패킹(튜플의 각 요소를 여러 개의 변수에 할당하는 것)\n",
    "# 튜플 요소 수와 언패킹할 요소 수 일치\n",
    "one, two, three = a\n",
    "\n",
    "# 언패킹 이용한 변수 다중 할당\n",
    "city, latitude, longitude = 'Seoul', 37.571, 126.986\n",
    "print(city, latitude, longitude, type(city), type(latitude), type(longitude))"
   ]
  },
  {
   "cell_type": "code",
   "execution_count": 27,
   "metadata": {},
   "outputs": [
    {
     "name": "stdout",
     "output_type": "stream",
     "text": [
      "반지름 4인 원의 면적과 둘레: 50, 25\n"
     ]
    }
   ],
   "source": [
    "# circle_area_and_circum.py\n",
    "# 원의 면적과 둘레를 튜플 형식으로 변환하는 함수\n",
    "def area_and_circum(radius): # 원의 면적과 둘레 구하기\n",
    "    area = 3.14 * radius ** 2\n",
    "    circum = 2 * 3.14 * radius\n",
    "    return area, circum\n",
    "r = 4\n",
    "a, c = area_and_circum(r)\n",
    "print('반지름 %d인 원의 면적과 둘레: %d, %d' %(r, a, c))"
   ]
  }
 ],
 "metadata": {
  "kernelspec": {
   "display_name": "Python 3",
   "language": "python",
   "name": "python3"
  },
  "language_info": {
   "codemirror_mode": {
    "name": "ipython",
    "version": 3
   },
   "file_extension": ".py",
   "mimetype": "text/x-python",
   "name": "python",
   "nbconvert_exporter": "python",
   "pygments_lexer": "ipython3",
   "version": "3.10.2"
  },
  "orig_nbformat": 4
 },
 "nbformat": 4,
 "nbformat_minor": 2
}
