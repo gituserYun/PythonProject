{
 "cells": [
  {
   "cell_type": "code",
   "execution_count": 1,
   "metadata": {},
   "outputs": [
    {
     "name": "stdout",
     "output_type": "stream",
     "text": [
      "1.26.2\n"
     ]
    }
   ],
   "source": [
    "# NumPy 별치 만들기, 간단한 배열 연산\n",
    "import numpy as np\n",
    "\n",
    "print(np.__version__)"
   ]
  },
  {
   "cell_type": "code",
   "execution_count": 2,
   "metadata": {},
   "outputs": [
    {
     "name": "stdout",
     "output_type": "stream",
     "text": [
      "시험성적 합계: [ 70  90 110]\n",
      "시험성적 평균: [35. 45. 55.]\n"
     ]
    }
   ],
   "source": [
    "mid_scores = np.array([10, 20, 30])\n",
    "final_scores = np.array([60, 70, 80])\n",
    "total = mid_scores + final_scores\n",
    "print('시험성적 합계:', total) # 각 요소별 합계\n",
    "print('시험성적 평균:', total/2) # 모든 요소 2로 나눔"
   ]
  },
  {
   "cell_type": "code",
   "execution_count": 3,
   "metadata": {},
   "outputs": [
    {
     "name": "stdout",
     "output_type": "stream",
     "text": [
      "(3,)\n",
      "1\n",
      "int32\n",
      "4\n",
      "3\n"
     ]
    }
   ],
   "source": [
    "a = np.array([1,2,3,]) # 넘파이 ndarray 객체의 생성\n",
    "\n",
    "# a 객체의 형태(shape)\n",
    "# shape: 배열의 차원으로 (m, n) 형식의 튜플형. m과 n은 각 차원의 원소 크기 알려주는 정수\n",
    "print(a.shape)\n",
    "\n",
    "# a 객체의 차원(ndim)\n",
    "# ndim: 배열 축 혹은 차원의 개수\n",
    "print(a.ndim)\n",
    "\n",
    "# a 객체 내부 자료형(dtype)\n",
    "print(a.dtype) # dtype('int32')\n",
    "\n",
    "# a 객체 내부 자료형이 차지하는 메모리 크기(byte)\n",
    "print(a.itemsize)\n",
    "\n",
    "# a 객체의 전체 크기(항목의 수)\n",
    "print(a.size)\n"
   ]
  },
  {
   "cell_type": "markdown",
   "metadata": {},
   "source": [
    "- N(1,2,3)D array"
   ]
  },
  {
   "cell_type": "code",
   "execution_count": 4,
   "metadata": {},
   "outputs": [
    {
     "name": "stdout",
     "output_type": "stream",
     "text": [
      "실습1: array_a= [0 1 2 3 4 5 6 7 8 9]\n"
     ]
    }
   ],
   "source": [
    "# 1. 0에서 9까지의 정수 값을 가지는 ndarray 객체 array_a를 넘파이를 이용하여 작성 출력\n",
    "array_a = np.array([0, 1, 2, 3, 4, 5, 6, 7, 8, 9])\n",
    "print(\"실습1: array_a=\", array_a)"
   ]
  },
  {
   "cell_type": "code",
   "execution_count": 5,
   "metadata": {},
   "outputs": [
    {
     "name": "stdout",
     "output_type": "stream",
     "text": [
      "실습2: array_b= [0 1 2 3 4 5 6 7 8 9]\n"
     ]
    }
   ],
   "source": [
    "# 2. range() 함수를 사용하여 0에서 9까지 정수 값을 가지는 ndarray 객체 array_b를 만들고 결과\n",
    "array_b = np.array(range(10))\n",
    "print(\"실습2: array_b=\", array_b)"
   ]
  },
  {
   "cell_type": "code",
   "execution_count": 7,
   "metadata": {},
   "outputs": [
    {
     "name": "stdout",
     "output_type": "stream",
     "text": [
      "실습3: array_c= [0 2 4 6 8]\n"
     ]
    }
   ],
   "source": [
    "# 3. 문제 2의 코드를 수정하여 0에서 9까지의 정수 값 중에서 다음과 같이 짝수를 가지는 ndarray객체 array_c를 생성\n",
    "array_c = np.array(range(0,10,2))\n",
    "print(\"실습3: array_c=\", array_c)"
   ]
  },
  {
   "cell_type": "code",
   "execution_count": 11,
   "metadata": {},
   "outputs": [
    {
     "name": "stdout",
     "output_type": "stream",
     "text": [
      "실습4: \n",
      "array_c의 shape: (5,)\n",
      "array_c의 ndim: 1\n",
      "array_c의 dtype: int32\n",
      "array_c의 size: 5\n",
      "array_c의 itemsize: 4\n"
     ]
    }
   ],
   "source": [
    "# 4. array_c의 shape, ndim, dtype, size, itemsize를 출력\n",
    "print(\"실습4: \")\n",
    "print(\"array_c의 shape:\", array_c.shape)\n",
    "print(\"array_c의 ndim:\", array_c.ndim)\n",
    "print(\"array_c의 dtype:\", array_c.dtype)\n",
    "print(\"array_c의 size:\", array_c.size)\n",
    "print(\"array_c의 itemsize:\", array_c.itemsize)"
   ]
  },
  {
   "cell_type": "code",
   "execution_count": 14,
   "metadata": {},
   "outputs": [
    {
     "name": "stdout",
     "output_type": "stream",
     "text": [
      "[320 350 330]\n",
      "[640 700 660]\n",
      "[704. 770. 726.]\n"
     ]
    }
   ],
   "source": [
    "# NumPy 배열 연산\n",
    "salary = np.array([220, 250, 230])\n",
    "salary = salary + 100 # NumPy 배열 저장된 모든 값 덧셈\n",
    "print(salary)\n",
    "salary = salary * 2 # NumPy 배열 저장된 모든 값 곱셈\n",
    "print(salary)\n",
    "salary = salary * 1.1 # NumPy 배열 저장된 모든 값 실수 적용 가능\n",
    "print(salary)"
   ]
  },
  {
   "cell_type": "code",
   "execution_count": 15,
   "metadata": {},
   "outputs": [
    {
     "name": "stdout",
     "output_type": "stream",
     "text": [
      "['100' 'test' '3.0' 'False']\n"
     ]
    }
   ],
   "source": [
    "# NumPy 배열 연산\n",
    "# 각 배열마다 타입이 하나만 있다고 생각\n",
    "# 넘파이의 배열 안에는 동일한 타입의 데이터만 저장할 수 있다.(정수면 정수, 실수면 술수만 저장)\n",
    "# 여러가지 타입을 섞어 배열에 전달하면 이것을 전부 문자열로 변경\n",
    "tangled = np.array([100, 'test', 3.0, False])\n",
    "print(tangled)\n",
    "# 동일한 자료형으로만 데이터를 저장하면 각각의 데이터 항목에 필요한 저장공간 일정\n",
    "# 몇 번째 위치에 있는 항목이든 그 순서만 알면 바로 접근 가능하기에 바르게 데이터 활용\n",
    "# 원하는 위치에 바로 접근하여 데이터를 쓴느 일을 임의접근(random access)"
   ]
  },
  {
   "cell_type": "code",
   "execution_count": 22,
   "metadata": {},
   "outputs": [
    {
     "name": "stdout",
     "output_type": "stream",
     "text": [
      "대상자들의 키: [1.83 1.76 1.69 1.86 1.77 1.73]\n",
      "대상자들의 몸무게: [86 74 59 95 80 68]\n",
      "대상자들의 BMI\n",
      "[25.68007405 23.88946281 20.65754    27.45982194 25.53544639 22.72043837]\n"
     ]
    }
   ],
   "source": [
    "heights = [1.83, 1.76, 1.69, 1.86, 1.77, 1.73]\n",
    "weights = [86, 74, 59, 95, 80, 68]\n",
    "\n",
    "# print(type(heights)) #<class 'list'>\n",
    "np_heights = np.array(heights)\n",
    "np_weights = np.array(weights)\n",
    "\n",
    "print(\"대상자들의 키:\", np_heights)\n",
    "print(\"대상자들의 몸무게:\", np_weights)\n",
    "\n",
    "bmi = np_weights / (np_heights**2)\n",
    "print(f\"대상자들의 BMI\\n{bmi}\")"
   ]
  },
  {
   "cell_type": "markdown",
   "metadata": {},
   "source": [
    "- 인덱싱(Indexing)과 슬라이싱(Slicing)"
   ]
  },
  {
   "cell_type": "code",
   "execution_count": 27,
   "metadata": {},
   "outputs": [
    {
     "name": "stdout",
     "output_type": "stream",
     "text": [
      "93\n",
      "99\n",
      "[72 93 94]\n",
      "[94 89 78 99]\n",
      "[89 78]\n"
     ]
    }
   ],
   "source": [
    "scores = np.array([88, 72, 93, 94, 89, 78, 99])\n",
    "print(scores[2])\n",
    "print(scores[-1])\n",
    "print(scores[1:4])\n",
    "print(scores[3:])\n",
    "print(scores[4:-1])"
   ]
  },
  {
   "cell_type": "code",
   "execution_count": 30,
   "metadata": {},
   "outputs": [
    {
     "name": "stdout",
     "output_type": "stream",
     "text": [
      "[False False  True  True  True] <class 'numpy.ndarray'>\n",
      "[25 30 28]\n"
     ]
    }
   ],
   "source": [
    "# 논리적 인덱싱\n",
    "ages = np.array([18, 19, 25, 30, 28])\n",
    "y = ages > 20\n",
    "print(y, type(ages)) # 부울형으로 반환\n",
    "print(ages[ages>20]) # 배열 형식으로 반환(부울형 배열을 인덱스로 하는 방법)"
   ]
  },
  {
   "cell_type": "code",
   "execution_count": 31,
   "metadata": {},
   "outputs": [
    {
     "name": "stdout",
     "output_type": "stream",
     "text": [
      "대상자들의 BMI(25이상)\n",
      "[25.68007405 27.45982194 25.53544639]\n"
     ]
    }
   ],
   "source": [
    "# BMI 25가 넘는 사람만 추출하기\n",
    "heights = [1.83, 1.76, 1.69, 1.86, 1.77, 1.73]\n",
    "weights = [86, 74, 59, 95, 80, 68]\n",
    "np_heights = np.array(heights)\n",
    "np_weights = np.array(weights)\n",
    "bmi = np_weights / (np_heights**2)\n",
    "print(f\"대상자들의 BMI(25이상)\\n{bmi[bmi > 25]}\")"
   ]
  },
  {
   "cell_type": "markdown",
   "metadata": {},
   "source": [
    "- 2차원 배열의 인덱싱"
   ]
  },
  {
   "cell_type": "code",
   "execution_count": 37,
   "metadata": {},
   "outputs": [
    {
     "name": "stdout",
     "output_type": "stream",
     "text": [
      "[[1 2 3]\n",
      " [4 5 6]\n",
      " [7 8 9]]\n",
      "3\n",
      "9\n",
      "1 3\n",
      "[[1 2 3]\n",
      " [4 5 6]\n",
      " [7 8 1]]\n"
     ]
    }
   ],
   "source": [
    "# 2차원 배열 -> 리스트의 리스트\n",
    "y = [[1,2,3],[4,5,6],[7,8,9]]\n",
    "np_array = np.array(y) # 2차원 배열(넘파이 다차원 배열)\n",
    "print(np_array) # 역행렬이나 행렬식을 구하는 등의 행렬 연산들 적용 구현 수월\n",
    "\n",
    "# 2차원 배열 인덱싱\n",
    "print(np_array[0][2])\n",
    "print(np_array[2][-1])\n",
    "print(np_array[0, 0], np_array[0, 2])\n",
    "# 파이썬 리스트와 달리 넘파이 배열은 모든 항목이 동일한 자료형을 가지기 때문에\n",
    "# 정수 배열에서 부동 소수점 값 삽입하려고 시도해도 소수점 이하 값은 자동으로 사라짐\n",
    "np_array[2,2] = 1.234\n",
    "print(np_array)"
   ]
  },
  {
   "cell_type": "code",
   "execution_count": 62,
   "metadata": {},
   "outputs": [
    {
     "name": "stdout",
     "output_type": "stream",
     "text": [
      "[[3 4]\n",
      " [7 8]]\n",
      "[[ 5  6  7]\n",
      " [ 9 10 11]\n",
      " [13 14 15]]\n",
      "[1 2 3 4]\n",
      "[6 7]\n",
      "\n",
      "\n",
      "문제1)\n",
      "[[1 2 3 4]]\n",
      "\n",
      "\n",
      "문제2)\n",
      "[[ 1  3]\n",
      " [ 9 11]]\n",
      "\n",
      "\n"
     ]
    }
   ],
   "source": [
    "# 넘파이 스타일의 2차원 배열 잘라내기\n",
    "np_array = np.array([[1,2,3,4],[5,6,7,8],[9,10,11,12],[13,14,15,16]])\n",
    "print(np_array[0:2, 2:4])\n",
    "print(np_array[1:4, 0:3])\n",
    "print(np_array[0])\n",
    "print(np_array[1, 1:3])\n",
    "\n",
    "## 문제 (중요) ##\n",
    "# 첫 슬라이싱: 0행, 2행 선택, 두번째 슬라이싱: 그 중 0행 선택\n",
    "print(f\"\\n\\n문제1)\\n{np_array[::2][::2]}\\n\\n\")\n",
    "# 행 슬라이싱: 0행, 2행 선택, 열 슬라이싱: 0열 2열 선택\n",
    "print(f\"문제2)\\n{np_array[::2,::2]}\\n\\n\")\n"
   ]
  },
  {
   "cell_type": "code",
   "execution_count": 74,
   "metadata": {},
   "outputs": [
    {
     "name": "stdout",
     "output_type": "stream",
     "text": [
      "[[False False False]\n",
      " [False False  True]\n",
      " [ True  True  True]]\n",
      "[6 7 8 9]\n",
      "[3 6 9]\n",
      "[False  True  True]\n",
      "\n",
      " [[False  True False]\n",
      " [ True False  True]\n",
      " [False  True False]]\n",
      "[2 4 6 8]\n"
     ]
    }
   ],
   "source": [
    "# 2차원 배열 논리적인 인덱싱\n",
    "np_array = np.array([[1,2,3],[4,5,6],[7,8,9]])\n",
    "print(np_array > 5)\n",
    "print(np_array[np_array > 5])\n",
    "print(np_array[:, 2])\n",
    "print(np_array[:, 2] > 5)\n",
    "\n",
    "print(\"\\n\",np_array[:] % 2 == 0)\n",
    "print(np_array[np_array % 2 ==0])"
   ]
  },
  {
   "cell_type": "markdown",
   "metadata": {},
   "source": [
    "- 2차원 배열 연습하기"
   ]
  },
  {
   "cell_type": "code",
   "execution_count": 83,
   "metadata": {},
   "outputs": [
    {
     "name": "stdout",
     "output_type": "stream",
     "text": [
      "'c'의 문자 수: 3\n",
      "두 NumPy 2차원 배열 차이 확인: \n",
      "[[ 8 18 28]\n",
      " [ 9 18 27]]\n"
     ]
    }
   ],
   "source": [
    "# 문자 데이터를 저장하고 있는 어떤 2차원 넘파이 배열 x에서 'c' 문자가 몇 개 있는지\n",
    "# 알고 싶을 때, 'c'만을 추출하여 배열을 만들자\n",
    "x = np.array([['a','b','c','d'],['c','c','g','h']])\n",
    "print(f\"'c'의 문자 수: {x[x == 'c'].size}\")\n",
    "\n",
    "# 두개의 2차원 배열에 정수를 담아 두 배열을 차이 결과를 확인\n",
    "mat_a = np.array([[10,20,30],[10,20,30]])\n",
    "mat_b = np.array([[2,2,2],[1,2,3]])\n",
    "print(f\"두 NumPy 2차원 배열 차이 확인: \\n{mat_a - mat_b}\")"
   ]
  },
  {
   "cell_type": "markdown",
   "metadata": {},
   "source": [
    "- Boolean Indexing"
   ]
  },
  {
   "cell_type": "code",
   "execution_count": 105,
   "metadata": {},
   "outputs": [
    {
     "name": "stdout",
     "output_type": "stream",
     "text": [
      "<class 'numpy.ndarray'>\n",
      "shape: (4, 6), dimension: 2, dtype:bool\n",
      "Array's Data:\n",
      "[[False  True False  True False  True]\n",
      " [False  True False  True False  True]\n",
      " [False  True False  True False  True]\n",
      " [False  True False  True False  True]]\n",
      "[ 2  4  6  8 10 12 14 16 18 20 22 24]\n",
      "300\n"
     ]
    }
   ],
   "source": [
    "# 데모 배열 생성\n",
    "a1 = np.arange(1, 25).reshape((4,6)) # 2차원 배열\n",
    "# print(a1)\n",
    "# print(f\"a1 배열의 짝수 요소 집합: \\n{a1[a1 % 2 == 0]}\")\n",
    "\n",
    "# 짝수 요소 확인\n",
    "# numpy broad casting을 이용하여 짝수인 배열 요소 확인\n",
    "even_arr = a1 % 2 == 0\n",
    "print(type(even_arr))\n",
    "print(f\"shape: {even_arr.shape}, dimension: {even_arr.ndim}, dtype:{even_arr.dtype}\")\n",
    "print(f\"Array's Data:\\n{even_arr}\")\n",
    "print(a1[even_arr])\n",
    "print(np.sum(a1))"
   ]
  },
  {
   "cell_type": "markdown",
   "metadata": {},
   "source": [
    "- Fancy Indexing"
   ]
  },
  {
   "cell_type": "code",
   "execution_count": 114,
   "metadata": {},
   "outputs": [
    {
     "name": "stdout",
     "output_type": "stream",
     "text": [
      "[[ 1  2  3  4  5  6]\n",
      " [ 7  8  9 10 11 12]\n",
      " [13 14 15 16 17 18]\n",
      " [19 20 21 22 23 24]] \n",
      "\n",
      "[1, 8, 15, 22] \n",
      "\n",
      "[[ 2  3]\n",
      " [ 8  9]\n",
      " [14 15]\n",
      " [20 21]]\n"
     ]
    }
   ],
   "source": [
    "# 배열에 인덱스 배열을 전달하여 요소를 참조하는 방법\n",
    "arr = np.arange(1,25).reshape((4,6))\n",
    "print(arr, \"\\n\")\n",
    "\n",
    "# Facncy Case1\n",
    "print([arr[0,0], arr[1,1], arr[2,2], arr[3,3]], \"\\n\")\n",
    "\n",
    "# Facncy Case2\n",
    "print(arr[:, [1,2]])"
   ]
  },
  {
   "cell_type": "markdown",
   "metadata": {},
   "source": [
    "- 넘파이 배열의 형태 알아내고 슬라이싱 연산(문제)"
   ]
  },
  {
   "cell_type": "code",
   "execution_count": 118,
   "metadata": {},
   "outputs": [
    {
     "name": "stdout",
     "output_type": "stream",
     "text": [
      "x shape : (2, 6)\n",
      "y shape : (2, 2)\n",
      "z shape : (1, 6)\n",
      "z values : [[86. 74. 59. 95. 80. 68.]]\n",
      "BMI data\n",
      "[0.00024743 0.0003214  0.00048549 0.00020609 0.00027656 0.00037413]\n"
     ]
    }
   ],
   "source": [
    "# 검사 대상들의 키와 몸무게 2차원 넘파이 배열로 저장되어 있을 때 결과 값 확인\n",
    "import numpy as np\n",
    "\n",
    "x = np.array([[1.83, 1.76, 1.69, 1.86, 1.77, 1.73], [86.0, 74.0, 59.0, 95.0, 80.0, 68.0]])\n",
    "y = x[0:2, 1:3] # [[1.76  1.69] [74. 59.]]\n",
    "z = x[0:2][1:3] # [[86. 74. 59. 95. 80. 68.]]\n",
    "\n",
    "print('x shape :', x.shape)\n",
    "print('y shape :', y.shape)\n",
    "print('z shape :', z.shape)\n",
    "print('z values :', z)\n",
    "\n",
    "bmi = x[0] / x[1]**2\n",
    "print('BMI data')\n",
    "print(bmi)"
   ]
  },
  {
   "cell_type": "code",
   "execution_count": 121,
   "metadata": {},
   "outputs": [
    {
     "name": "stdout",
     "output_type": "stream",
     "text": [
      "몸무게 80 이상인 선수 정보\n",
      "[[183.   86.2]\n",
      " [176.   80.1]]\n",
      "키가 180 이상인 선수 정보\n",
      "[[183.   86.2]\n",
      " [181.   78.5]]\n"
     ]
    }
   ],
   "source": [
    "# 2차원 배열에서 특정 조건을 만족하는 행만 추출하기\n",
    "players = [[170, 76.4], [183, 86.2], [181, 78.5], [176, 80.1]]\n",
    "np_players = np.array(players)\n",
    "\n",
    "print('몸무게 80 이상인 선수 정보')\n",
    "print(np_players[np_players[:, 1] >= 80.0]) # 선수들 가운데 80 넘는 선수만 고른 정보\n",
    "\n",
    "print('키가 180 이상인 선수 정보')\n",
    "print(np_players[np_players[:, 0] >= 180]) # 키가 180이상인 선수들 정보 추출"
   ]
  },
  {
   "cell_type": "markdown",
   "metadata": {},
   "source": [
    "- ndarray 생성"
   ]
  },
  {
   "cell_type": "code",
   "execution_count": 127,
   "metadata": {},
   "outputs": [
    {
     "name": "stdout",
     "output_type": "stream",
     "text": [
      "[[0. 0. 0.]\n",
      " [0. 0. 0.]]\n",
      "[[1. 1. 1.]\n",
      " [1. 1. 1.]]\n",
      "[[100 100 100]\n",
      " [100 100 100]]\n",
      "[[1. 0. 0.]\n",
      " [0. 1. 0.]\n",
      " [0. 0. 1.]]\n",
      "[[0.66903144 0.84941142 0.24462338]\n",
      " [0.35177993 0.45898642 0.22232438]]\n"
     ]
    }
   ],
   "source": [
    "# zeros((n,m)): n * m 배열(혹은 행렬)을 생성해서 초기값 0\n",
    "# eye(n): n * n 크기의 단위행렬 identity matrix을 생성\n",
    "    # 정방행렬 중에서 대각선 성분이 1이고 나머지 성분이 0인 행렬\n",
    "print(np.zeros((2,3)))\n",
    "print(np.ones((2,3)))\n",
    "print(np.full((2,3), 100))\n",
    "print(np.eye(3))\n",
    "print(np.random.random((2,3)))"
   ]
  },
  {
   "cell_type": "markdown",
   "metadata": {},
   "source": [
    "- arange() 함수"
   ]
  },
  {
   "cell_type": "code",
   "execution_count": 145,
   "metadata": {},
   "outputs": [
    {
     "name": "stdout",
     "output_type": "stream",
     "text": [
      "[0 1 2 3 4 5 6 7 8 9]\n",
      "[0 2 4 6 8]\n",
      "[0 3 6 9]\n",
      "[0.  0.2 0.4 0.6 0.8]\n",
      "[ 0.   2.5  5.   7.5 10. ]\n",
      "[ 0.          3.33333333  6.66666667 10.        ]\n",
      "[1, 2, 3, 4, 5, 6, 7, 8, 9, 10, 11]\n"
     ]
    }
   ],
   "source": [
    "print(np.arange(0,10))\n",
    "print(np.arange(0,10,2))\n",
    "print(np.arange(0,10,3))\n",
    "print(np.arange(0.0, 1.0, 0.2))\n",
    "# linspace()함수 - 동일한 간격을 가진 연속된 값 생성 (시작, 끝, 간격의 수)\n",
    "print(np.linspace(0, 10, 5))\n",
    "print(np.linspace(0, 10, 4))\n",
    "\n",
    "# 파이썬 리스트는 실수 값을 사용할 수 없음.\n",
    "# a = list(range(1, 10, 0.5))\n",
    "print(a)"
   ]
  },
  {
   "cell_type": "markdown",
   "metadata": {},
   "source": [
    "- arange()함수와 range()함수"
   ]
  },
  {
   "cell_type": "code",
   "execution_count": 154,
   "metadata": {},
   "outputs": [
    {
     "name": "stdout",
     "output_type": "stream",
     "text": [
      "[1 2 3 4 5]\n",
      "[1 3 5 7 9]\n",
      "[0, 1, 2, 3, 4]\n",
      "[0, 2, 4]\n",
      "[1 2 3 4 5]\n"
     ]
    }
   ],
   "source": [
    "# 시작 값을 지정\n",
    "print(np.arange(1,6))\n",
    "# 증가되는 값을 지정\n",
    "print(np.arange(1, 10, 2))\n",
    "print(list(range(5)))\n",
    "print(list(range(0,5,2)))\n",
    "\n",
    "# range()를 써서 arange()와 같이 넘파이 배열 만들기\n",
    "print(np.array(range(1,6)))"
   ]
  },
  {
   "cell_type": "markdown",
   "metadata": {},
   "source": [
    "- linspace()함수와 logspace()함수"
   ]
  },
  {
   "cell_type": "code",
   "execution_count": null,
   "metadata": {},
   "outputs": [],
   "source": [
    "# linspace(): 시작값부터 끝값까지 균일한 간격으로 지정된 개수만큼 배열생성\n",
    "# numpy.linspace(start, stop, num=50)\n",
    "# 1. 데이터 생성을 시작할 값 - 생략 가능\n",
    "# 2. 데이터 생성을 멈출 값 - 생략 가능(stop-1이 아니라 stop까지 생성됨)\n",
    "# 3. 데이터 생성 개수 - 기본값은 50개\n",
    "\n",
    "# logspace(): 로그 스케일로 수들을 생성\n",
    "# numpy.logspace(start, stop, num=50)\n",
    "# 1. 데이터 생성을 10^start부터 시작\n",
    "# 2. 데이터 생성을 10^stop까지\n",
    "# 3. 데이터 생성 개수 - 기분값은 50개"
   ]
  }
 ],
 "metadata": {
  "kernelspec": {
   "display_name": "Python 3",
   "language": "python",
   "name": "python3"
  },
  "language_info": {
   "codemirror_mode": {
    "name": "ipython",
    "version": 3
   },
   "file_extension": ".py",
   "mimetype": "text/x-python",
   "name": "python",
   "nbconvert_exporter": "python",
   "pygments_lexer": "ipython3",
   "version": "3.10.11"
  }
 },
 "nbformat": 4,
 "nbformat_minor": 2
}
