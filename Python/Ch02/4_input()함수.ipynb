{
 "cells": [
  {
   "cell_type": "markdown",
   "metadata": {},
   "source": [
    "> print()와 input() 함수 예제"
   ]
  },
  {
   "cell_type": "code",
   "execution_count": 1,
   "metadata": {},
   "outputs": [
    {
     "name": "stdout",
     "output_type": "stream",
     "text": [
      "10 feet is  304.8 cm\n",
      "10 inch is  25.4 cm\n",
      "10 feet 10 inch is 330.2\n"
     ]
    }
   ],
   "source": [
    "# input()함수는 기본적으로 문자열 리턴\n",
    "# 숫자 입력받아 계산하기\n",
    "temp1 = int(input('Enter a feet: '))\n",
    "temp2 = int(input('Enter a inch: '))\n",
    "\n",
    "print(temp1, 'feet is ', temp1*30.48, 'cm')\n",
    "print(temp2, 'inch is ', temp2*2.54, 'cm')\n",
    "\n",
    "# round(number[,ndigits])\n",
    "# 반환형: 인자로 들어온 number가 숫자 타입인 경우 정수 혹은 실수 반환\n",
    "# number: 반올림을 하고 싶은 숫자\n",
    "# ndigit: 정밀도에 관련된 숫자, 소수점 2번째까지 반올림하는 것을 원하면 2입력\n",
    "#       : 두번째 인자를 생략하면 첫번째 인자 number에 가장 가까운 정수 반환\n",
    "\n",
    "print(temp1, 'feet', temp2, 'inch is', round((temp1*30.48)+(temp2*2.54),2))"
   ]
  },
  {
   "cell_type": "code",
   "execution_count": 2,
   "metadata": {},
   "outputs": [
    {
     "name": "stdout",
     "output_type": "stream",
     "text": [
      "The average of the numbers you entered is 15.0\n"
     ]
    }
   ],
   "source": [
    "# 숫자 입력받아 계산하기\n",
    "# eval()은 표현식을 평가\n",
    "# eval(expression)\n",
    "num1 = eval(input('Enter the first number: '))\n",
    "num2 = eval(input('Enter the second number: '))\n",
    "print('The average of the numbers you entered is', (num1+num2)/2)"
   ]
  },
  {
   "cell_type": "code",
   "execution_count": 11,
   "metadata": {},
   "outputs": [
    {
     "name": "stdout",
     "output_type": "stream",
     "text": [
      "1. eval('\"BlockDMask\"' + '\"blog\"') : BlockDMaskblog\n",
      "2. eval(\"100 + 32\") : 132\n",
      "3. eval(\"abs(-56)\") : 56\n",
      "4. eval(\"len([1,2,3,4])\") : 4\n",
      "5. eval(\"round(1.5)\") : 2\n"
     ]
    }
   ],
   "source": [
    "# 1. 문자열 덧셈\n",
    "a = eval('\"BlockDMask\" + \"blog\"')\n",
    "print(f\"1. eval('\\\"BlockDMask\\\"' + '\\\"blog\\\"') : {a}\")\n",
    "\n",
    "# 2. 숫자 덧셈\n",
    "b = eval(\"100 + 32\")\n",
    "print(f'2. eval(\"100 + 32\") : {b}')\n",
    "\n",
    "# 3. 내장 함수\n",
    "absc = eval(\"abs(-56)\")\n",
    "print(f'3. eval(\"abs(-56)\") : {absc}')\n",
    "\n",
    "# 4. 리스트 길이\n",
    "d = eval(\"len([1,2,3,4])\")\n",
    "print(f'4. eval(\"len([1,2,3,4])\") : {d}')\n",
    "\n",
    "# 5. round 함수\n",
    "e = eval(\"round(1.5)\")\n",
    "print(f'5. eval(\"round(1.5)\") : {e}')"
   ]
  },
  {
   "cell_type": "code",
   "execution_count": 14,
   "metadata": {},
   "outputs": [
    {
     "name": "stdout",
     "output_type": "stream",
     "text": [
      "Hello,  Lee\n",
      "Your number squared: 100\n"
     ]
    }
   ],
   "source": [
    "# input() 함수에 문자열과 숫자 입력\n",
    "name = input('Enter your name: ')\n",
    "print('Hello, ', name)\n",
    "\n",
    "num = eval(input('Enter a number:'))\n",
    "print('Your number squared:', num*num)"
   ]
  }
 ],
 "metadata": {
  "kernelspec": {
   "display_name": "Python 3",
   "language": "python",
   "name": "python3"
  },
  "language_info": {
   "codemirror_mode": {
    "name": "ipython",
    "version": 3
   },
   "file_extension": ".py",
   "mimetype": "text/x-python",
   "name": "python",
   "nbconvert_exporter": "python",
   "pygments_lexer": "ipython3",
   "version": "3.10.2"
  },
  "orig_nbformat": 4
 },
 "nbformat": 4,
 "nbformat_minor": 2
}
