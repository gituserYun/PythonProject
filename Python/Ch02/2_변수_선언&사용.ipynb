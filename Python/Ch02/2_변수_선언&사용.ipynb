{
 "cells": [
  {
   "cell_type": "markdown",
   "metadata": {},
   "source": [
    "> 변수의 선언과 사용"
   ]
  },
  {
   "cell_type": "code",
   "execution_count": 4,
   "metadata": {},
   "outputs": [
    {
     "name": "stdout",
     "output_type": "stream",
     "text": [
      "<class 'bool'>\n",
      "<class 'int'>\n",
      "<class 'float'>\n",
      "<class 'str'>\n"
     ]
    }
   ],
   "source": [
    "# Type() 함수\n",
    "boolVar = False #True\n",
    "intVar = 100\n",
    "floatVar = 123.45\n",
    "strVar = \"안녕?\"\n",
    "print(type(boolVar))\n",
    "print(type(intVar))\n",
    "print(type(floatVar))\n",
    "print(type(strVar))"
   ]
  },
  {
   "cell_type": "code",
   "execution_count": 6,
   "metadata": {},
   "outputs": [
    {
     "name": "stdout",
     "output_type": "stream",
     "text": [
      "300\n"
     ]
    }
   ],
   "source": [
    "# 연속 변수 사용\n",
    "var1 = var2 = var3 = 100\n",
    "print(var1 + var2 + var3)"
   ]
  },
  {
   "cell_type": "code",
   "execution_count": 8,
   "metadata": {},
   "outputs": [
    {
     "name": "stdout",
     "output_type": "stream",
     "text": [
      "10 100 200 18\n",
      "10.5 150.0\n"
     ]
    }
   ],
   "source": [
    "# 리터럴(literal)\n",
    "a = 0b1010 # 이진법 0(b\n",
    "b = 100 # 10진법\n",
    "c = 0o310 # 8진법\n",
    "d = 0x12 #16 진법 0x\n",
    "\n",
    "# 부동 소수점\n",
    "float_1 = 10.5\n",
    "float_2 = 1.5e2\n",
    "print(a, b, c, d)\n",
    "print(float_1, float_2)"
   ]
  },
  {
   "cell_type": "code",
   "execution_count": 16,
   "metadata": {},
   "outputs": [
    {
     "name": "stdout",
     "output_type": "stream",
     "text": [
      "Hello\n",
      "C\n",
      "This is a multiline string \n",
      "                with more than one line code.\n",
      "\\ u00d cnic\\ u00f6 de\n",
      "raw \\n string\n"
     ]
    }
   ],
   "source": [
    "# 문자리터럴\n",
    "strings = \"Hello\"\n",
    "char = \"C\"\n",
    "# 따옴표 세개로 여러줄에 걸쳐 사용 가능\n",
    "multiline = \"\"\"This is a multiline string \n",
    "                with more than one line code.\"\"\"\n",
    "unicode = u\"\\ u00d cnic\\ u00f6 de\"\n",
    "raw_str = r\"raw \\n string\"\n",
    "\n",
    "print(strings)\n",
    "print(char)\n",
    "print(multiline)\n",
    "print(unicode)\n",
    "print(raw_str)"
   ]
  },
  {
   "cell_type": "code",
   "execution_count": 17,
   "metadata": {},
   "outputs": [
    {
     "name": "stdout",
     "output_type": "stream",
     "text": [
      "x is True\n",
      "y is False\n",
      "a: 2\n",
      "b: 1\n"
     ]
    }
   ],
   "source": [
    "# Boolean 리터럴(논리값 리터럴)\n",
    "x = True\n",
    "y = False\n",
    "a = True + 1\n",
    "b = False + 1\n",
    "print(\"x is\", x)\n",
    "print(\"y is\", y)\n",
    "print(\"a:\", a)\n",
    "print(\"b:\",b)"
   ]
  },
  {
   "cell_type": "code",
   "execution_count": 19,
   "metadata": {},
   "outputs": [
    {
     "name": "stdout",
     "output_type": "stream",
     "text": [
      "None\n"
     ]
    }
   ],
   "source": [
    "# 특수리터럴 None\n",
    "# 변수 생서아고 아무 동작도 하지 않을 때 사용(변수 껍데기)\n",
    "unknown = None\n",
    "print(unknown)"
   ]
  },
  {
   "cell_type": "code",
   "execution_count": 24,
   "metadata": {},
   "outputs": [
    {
     "name": "stdout",
     "output_type": "stream",
     "text": [
      "<class 'list'> ['apple', 'mango', 'orange']\n",
      "<class 'tuple'> (1, 2, 3)\n",
      "<class 'dict'> {'a': 'apple', 'b': 'ball', 'c': 'cat'}\n",
      "<class 'set'> {'i', 'a', 'o', 'u', 'e'}\n"
     ]
    }
   ],
   "source": [
    "# 리터럴 컬렉션\n",
    "# 4가지 컬렉션(리스트, 튜플, 딕셔너리, 세트)\n",
    "fruits = [\"apple\", \"mango\", \"orange\"] # 리스트\n",
    "numbers = (1, 2, 3) # 튜플\n",
    "alphabets = {'a':'apple','b':'ball','c':'cat'} #딕셔너리(사전)\n",
    "vowels = {'a', 'e', 'i', 'o', 'u'} # 세트\n",
    "\n",
    "print(type(fruits), fruits)\n",
    "print(type(numbers), numbers)\n",
    "print(type(alphabets), alphabets)\n",
    "print(type(vowels), vowels)"
   ]
  },
  {
   "cell_type": "code",
   "execution_count": null,
   "metadata": {},
   "outputs": [],
   "source": []
  }
 ],
 "metadata": {
  "kernelspec": {
   "display_name": "Python 3",
   "language": "python",
   "name": "python3"
  },
  "language_info": {
   "codemirror_mode": {
    "name": "ipython",
    "version": 3
   },
   "file_extension": ".py",
   "mimetype": "text/x-python",
   "name": "python",
   "nbconvert_exporter": "python",
   "pygments_lexer": "ipython3",
   "version": "3.10.2"
  },
  "orig_nbformat": 4
 },
 "nbformat": 4,
 "nbformat_minor": 2
}
