{
 "cells": [
  {
   "cell_type": "markdown",
   "metadata": {},
   "source": [
    "> 자료형과 기본 연산"
   ]
  },
  {
   "cell_type": "code",
   "execution_count": 2,
   "metadata": {},
   "outputs": [
    {
     "name": "stdout",
     "output_type": "stream",
     "text": [
      "1 1\n",
      "1.5 3.5\n",
      "ABC 101010\n",
      "True False\n"
     ]
    }
   ],
   "source": [
    "a = 1 # 정수형\n",
    "b = 1 # 정수형 \n",
    "print(a, b)\n",
    "\n",
    "a = 1.5 # 실수형\n",
    "b = 3.5 # 실수형\n",
    "print(a, b)\n",
    "\n",
    "a = \"ABC\" # 문자형\n",
    "b = \"101010\" # 문다형\n",
    "print(a, b)\n",
    "\n",
    "a = True # 불린형\n",
    "b = False # 불린형\n",
    "print(a, b)"
   ]
  },
  {
   "cell_type": "code",
   "execution_count": 8,
   "metadata": {},
   "outputs": [
    {
     "name": "stdout",
     "output_type": "stream",
     "text": [
      "10.0\n",
      "10\n",
      "3\n"
     ]
    }
   ],
   "source": [
    "# 정수형과 실수형 간 변환\n",
    "# float(), int()\n",
    "a = 10\n",
    "re_a = float(a)\n",
    "print(re_a)\n",
    "re_a = int(a)\n",
    "print(re_a)\n",
    "b = 3\n",
    "print(int(a / b))\n",
    "\n"
   ]
  },
  {
   "cell_type": "code",
   "execution_count": 14,
   "metadata": {},
   "outputs": [
    {
     "name": "stdout",
     "output_type": "stream",
     "text": [
      "76.3 <class 'float'>\n",
      "76.376.3\n"
     ]
    }
   ],
   "source": [
    "# 숫자형과 문자형 간 변환\n",
    "# 문자열과 숫자열의 덧셈이 불가능 주의!!\n",
    "#자료형 확인은 type()\n",
    "a = '76.3'\n",
    "b = float(a)\n",
    "c = 3\n",
    "print(b, type(b))\n",
    "\n",
    "re_b = str(b)\n",
    "print(a+re_b)"
   ]
  },
  {
   "cell_type": "markdown",
   "metadata": {},
   "source": [
    "> Code 03-05.py"
   ]
  },
  {
   "cell_type": "code",
   "execution_count": 15,
   "metadata": {},
   "outputs": [
    {
     "name": "stdout",
     "output_type": "stream",
     "text": [
      "메인 함수 부분이 실행\n",
      "함수를 호출함.\n",
      "전역 변수 값: 100\n"
     ]
    }
   ],
   "source": [
    "## 함수 선언 부분 ##\n",
    "def myFunc():\n",
    "    print('함수를 호출함.')\n",
    "    \n",
    "## 전역 변수 선언 부분 ##\n",
    "gVar = 100\n",
    "\n",
    "## 메인 코드 부분 ##\n",
    "if __name__=='__main__':\n",
    "    print('메인 함수 부분이 실행')\n",
    "    myFunc()\n",
    "    print('전역 변수 값:', gVar)"
   ]
  },
  {
   "cell_type": "code",
   "execution_count": 17,
   "metadata": {},
   "outputs": [
    {
     "name": "stdout",
     "output_type": "stream",
     "text": [
      "11 7 18 4.5 81 1 4\n"
     ]
    }
   ],
   "source": [
    "# **: 제곱 연산자, //: 나눈 후 소수점 버리는 연산자\n",
    "a = 9; b = 2\n",
    "print(a+b, a-b, a*b, a/b, a**b, a%b, a//b)"
   ]
  },
  {
   "cell_type": "code",
   "execution_count": 19,
   "metadata": {},
   "outputs": [
    {
     "name": "stdout",
     "output_type": "stream",
     "text": [
      "True False\n"
     ]
    }
   ],
   "source": [
    "# Bool형\n",
    "a = (100 == 100)\n",
    "b = (10 > 100)\n",
    "print(a, b)"
   ]
  },
  {
   "cell_type": "code",
   "execution_count": 33,
   "metadata": {},
   "outputs": [
    {
     "name": "stdout",
     "output_type": "stream",
     "text": [
      "파이썬 만세 파이썬 만세\n",
      "'파이썬' 만세 \"파이썬\" 만세\n",
      "이건 큰 따옴표(\")모양 이건 작은 따옴표(')모양\n",
      "파이썬 \n",
      " 만세\n",
      "파이썬 \n",
      " 만세\n"
     ]
    }
   ],
   "source": [
    "# 문자형\n",
    "a = \"파이썬 만세\"\n",
    "b = '파이썬 만세'\n",
    "print(a, b)\n",
    "re_a = \"'파이썬' 만세\"\n",
    "re_b = '\"파이썬\" 만세'\n",
    "print(re_a, re_b)\n",
    "\n",
    "c = \"이건 큰 따옴표(\\\")모양\"\n",
    "d = '이건 작은 따옴표(\\')모양'\n",
    "print(c, d)\n",
    "\n",
    "e = '파이썬 \\n 만세'\n",
    "f = \"\"\"파이썬 \n",
    " 만세\"\"\"\n",
    "print(e)\n",
    "print(f)"
   ]
  }
 ],
 "metadata": {
  "kernelspec": {
   "display_name": "Python 3",
   "language": "python",
   "name": "python3"
  },
  "language_info": {
   "codemirror_mode": {
    "name": "ipython",
    "version": 3
   },
   "file_extension": ".py",
   "mimetype": "text/x-python",
   "name": "python",
   "nbconvert_exporter": "python",
   "pygments_lexer": "ipython3",
   "version": "3.10.2"
  },
  "orig_nbformat": 4
 },
 "nbformat": 4,
 "nbformat_minor": 2
}
