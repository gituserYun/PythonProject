{
 "cells": [
  {
   "cell_type": "markdown",
   "metadata": {},
   "source": [
    "> 간단한 계산"
   ]
  },
  {
   "cell_type": "code",
   "execution_count": 1,
   "metadata": {},
   "outputs": [
    {
     "name": "stdout",
     "output_type": "stream",
     "text": [
      "100 + 50 = 150\n",
      "100 - 50 = 50\n",
      "100 * 50 = 5000\n",
      "100 / 50 = 2.0\n"
     ]
    }
   ],
   "source": [
    "a = 100\n",
    "b = 50\n",
    "result1=a+b\n",
    "result2=a-b\n",
    "result3=a*b\n",
    "result4=a/b\n",
    "print(a,'+',b,'=',result1)\n",
    "print(a,'-',b,'=',result2)\n",
    "print(a,'*',b,'=',result3)\n",
    "print(a,'/',b,'=',result4)"
   ]
  },
  {
   "cell_type": "markdown",
   "metadata": {},
   "source": [
    "> print 기본 사용법"
   ]
  },
  {
   "cell_type": "code",
   "execution_count": 6,
   "metadata": {},
   "outputs": [
    {
     "name": "stdout",
     "output_type": "stream",
     "text": [
      "문자열\n",
      "123\n",
      "Kim\n",
      "Park\n",
      "a+b :  12 \t a-b :  -8\n",
      "a*b :  20.0 \t a/b :  5.0\n"
     ]
    }
   ],
   "source": [
    "print(\"문자열\")\n",
    "# print(\"문자열\",sep옵션, end옵션)\n",
    "\n",
    "#예제\n",
    "print(123)\n",
    "print(\"Kim\")\n",
    "print(\"Park\")\n",
    "\n",
    "a = 2\n",
    "b = 10\n",
    "print(\"a+b : \", a+b, '\\t', \"a-b : \", a-b)\n",
    "\n",
    "a = 2.0\n",
    "b = 10.0\n",
    "print(\"a*b : \", a*b, '\\t', \"a/b : \", b/a)"
   ]
  },
  {
   "cell_type": "code",
   "execution_count": 8,
   "metadata": {},
   "outputs": [
    {
     "name": "stdout",
     "output_type": "stream",
     "text": [
      "value : 1\n",
      "value : 2\n",
      "value : blockmask\n",
      "value : 3.5\n",
      "value : 4.5\n",
      "value : z\n",
      "|left      |\n",
      "|   mid    |\n",
      "|     right|\n"
     ]
    }
   ],
   "source": [
    "# f-string 형식\n",
    "arr = [1,2,\"blockmask\",3.5,4.5,'z']\n",
    "for v in arr:\n",
    "    print(f\"value : {v}\")\n",
    "    \n",
    "# f-string 왼쪽 정렬\n",
    "s1 = 'left'\n",
    "print(f'|{s1:<10}|')\n",
    "\n",
    "# f-string 가운데 정렬\n",
    "s2 = 'mid'\n",
    "print(f'|{s2:^10}|')\n",
    "\n",
    "# f-string 오른쪽 정렬\n",
    "s3 = 'right'\n",
    "print(f'|{s3:>10}|')"
   ]
  },
  {
   "cell_type": "code",
   "execution_count": 9,
   "metadata": {},
   "outputs": [
    {
     "name": "stdout",
     "output_type": "stream",
     "text": [
      "my age {10}, {num}\n"
     ]
    }
   ],
   "source": [
    "# f-string 중괄호 출력\n",
    "# {{}}두개 연속: 중괄호 자체 출력\n",
    "# {{{}}}세개 연속: 중괄호와 변수 함께 표현\n",
    "num = 10\n",
    "print(f'my age {{{num}}}, {{num}}')"
   ]
  },
  {
   "cell_type": "code",
   "execution_count": 11,
   "metadata": {},
   "outputs": [
    {
     "name": "stdout",
     "output_type": "stream",
     "text": [
      "my name-BlockDMask, gender-man, age-100\n"
     ]
    }
   ],
   "source": [
    "# f-string Dictionary\n",
    "d = {'name':'BlockDMask','gender':'man','age':100}\n",
    "result = f'my name-{d[\"name\"]}, gender-{d[\"gender\"]}, age-{d[\"age\"]}'\n",
    "print(result)"
   ]
  },
  {
   "cell_type": "code",
   "execution_count": 14,
   "metadata": {},
   "outputs": [
    {
     "name": "stdout",
     "output_type": "stream",
     "text": [
      "123   123 00123\n",
      "300 200 100\n",
      "한 행입니다. \n",
      "또 한 행\n"
     ]
    }
   ],
   "source": [
    "# format() 함수와 {}를 함께 사용해 서식 지정\n",
    "print(\"%d %5d %05d\" % (123,123,123)) \n",
    "print(\"{2:d} {1:d} {0:d}\".format(100,200,300))\n",
    "print(\"한 행입니다. \\n또 한 행\")"
   ]
  },
  {
   "cell_type": "code",
   "execution_count": 15,
   "metadata": {},
   "outputs": [
    {
     "name": "stdout",
     "output_type": "stream",
     "text": [
      "\n",
      "줄바굼\n",
      "연습 \n",
      "\t탭키\t연습\n",
      "글자가 \"강조\"되는 효과1\n",
      "글자가 '강조'되는 효과1\n",
      "\\\\\\ 역슬래시 세 개 출력\n",
      "\\n \\t \\\" \\\\를 그대로 출력\n"
     ]
    }
   ],
   "source": [
    "# Code03-02.py\n",
    "# r(raw string)으로서, 뒤에 나오는 문자열에서 \\가 이스케이 문자로 해석되는 것 방지\n",
    "print(\"\\n줄바굼\\n연습 \")\n",
    "print(\"\\t탭키\\t연습\")\n",
    "print(\"글자가 \\\"강조\\\"되는 효과1\")\n",
    "print(\"글자가 \\'강조\\'되는 효과1\")\n",
    "print(\"\\\\\\\\\\\\ 역슬래시 세 개 출력\")\n",
    "print(r\"\\n \\t \\\" \\\\를 그대로 출력\")"
   ]
  }
 ],
 "metadata": {
  "kernelspec": {
   "display_name": "Python 3",
   "language": "python",
   "name": "python3"
  },
  "language_info": {
   "codemirror_mode": {
    "name": "ipython",
    "version": 3
   },
   "file_extension": ".py",
   "mimetype": "text/x-python",
   "name": "python",
   "nbconvert_exporter": "python",
   "pygments_lexer": "ipython3",
   "version": "3.10.2"
  },
  "orig_nbformat": 4
 },
 "nbformat": 4,
 "nbformat_minor": 2
}
