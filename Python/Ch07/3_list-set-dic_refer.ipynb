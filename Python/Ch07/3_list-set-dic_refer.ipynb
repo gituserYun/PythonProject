{
 "cells": [
  {
   "cell_type": "markdown",
   "metadata": {},
   "source": [
    "> 리스트 객체 생성과 참조 개념"
   ]
  },
  {
   "cell_type": "code",
   "execution_count": 3,
   "metadata": {},
   "outputs": [
    {
     "name": "stdout",
     "output_type": "stream",
     "text": [
      "['Kim', 'Park', 'Lee', 'Hong']\n",
      "['Kim', 'Choi', 'Lee', 'Hong']\n",
      "['Kim', 'Choi', 'Lee', 'Hong']\n"
     ]
    }
   ],
   "source": [
    "# 컴퓨터 메모리에 리스트를 저장한 후, 리스트의 주소를 alist 변수에 저장\n",
    "alist = ['Kim', 'Park', 'Lee', 'Hong']\n",
    "print(alist)\n",
    "\n",
    "blist = alist\n",
    "blist[1] = 'Choi' # blist의 두 번째 항목 값을 변경\n",
    "print(alist)\n",
    "print(blist)"
   ]
  },
  {
   "cell_type": "code",
   "execution_count": null,
   "metadata": {},
   "outputs": [],
   "source": []
  }
 ],
 "metadata": {
  "kernelspec": {
   "display_name": "Python 3",
   "language": "python",
   "name": "python3"
  },
  "language_info": {
   "codemirror_mode": {
    "name": "ipython",
    "version": 3
   },
   "file_extension": ".py",
   "mimetype": "text/x-python",
   "name": "python",
   "nbconvert_exporter": "python",
   "pygments_lexer": "ipython3",
   "version": "3.10.2"
  }
 },
 "nbformat": 4,
 "nbformat_minor": 2
}
