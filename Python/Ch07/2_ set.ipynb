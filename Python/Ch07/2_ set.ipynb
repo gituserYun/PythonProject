{
 "cells": [
  {
   "cell_type": "markdown",
   "metadata": {},
   "source": [
    "> 세트(Set): 순서가 없는 자료형"
   ]
  },
  {
   "cell_type": "code",
   "execution_count": 1,
   "metadata": {},
   "outputs": [
    {
     "name": "stdout",
     "output_type": "stream",
     "text": [
      "{1, 2, 3, 4, 5}\n"
     ]
    }
   ],
   "source": [
    "# 키만 모아 놓은 딕셔너리의 특수한 형태\n",
    "# 딕셔너리의 키는 중복되면 안 되므로 세트에 들어 있는 값은 항상 유일\n",
    "# 세트를 생성하려면 딕셔너리처럼 중괄호 {} 사용하지만 : 없이 값ㅇ르 입력\n",
    "# 중복 키는 자동으로 하나만 남음\n",
    "mySet1 = {1,2,3,4,4,5}\n",
    "print(mySet1)\n",
    "\n",
    "#교집합\n",
    "#합집합\n",
    "#차집합\n",
    "#대칭집합"
   ]
  },
  {
   "cell_type": "code",
   "execution_count": null,
   "metadata": {},
   "outputs": [],
   "source": []
  }
 ],
 "metadata": {
  "kernelspec": {
   "display_name": "Python 3",
   "language": "python",
   "name": "python3"
  },
  "language_info": {
   "codemirror_mode": {
    "name": "ipython",
    "version": 3
   },
   "file_extension": ".py",
   "mimetype": "text/x-python",
   "name": "python",
   "nbconvert_exporter": "python",
   "pygments_lexer": "ipython3",
   "version": "3.10.2"
  }
 },
 "nbformat": 4,
 "nbformat_minor": 2
}
