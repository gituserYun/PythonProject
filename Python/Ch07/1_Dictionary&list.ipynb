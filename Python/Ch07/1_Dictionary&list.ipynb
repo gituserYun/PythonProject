{
 "cells": [
  {
   "cell_type": "markdown",
   "metadata": {},
   "source": [
    "> 딕셔너리"
   ]
  },
  {
   "cell_type": "code",
   "execution_count": 3,
   "metadata": {},
   "outputs": [
    {
     "name": "stdout",
     "output_type": "stream",
     "text": [
      "{1: 'a', 2: 'b', 3: 'c'}\n",
      "{'a': 1, 'b': 2, 'c': 3}\n"
     ]
    }
   ],
   "source": [
    "# 키(Key)와 값(Value) 쌍으로 구성\n",
    "# 딕셔너리 생성은 키와 값 사용자가 지정하는 것이지 규정이 없음\n",
    "dic1 = {1: 'a', 2: 'b', 3: 'c'}\n",
    "print(dic1)\n",
    "dic2 = {'a': 1, 'b': 2,'c': 3}\n",
    "print(dic2)"
   ]
  },
  {
   "cell_type": "code",
   "execution_count": 6,
   "metadata": {},
   "outputs": [
    {
     "name": "stdout",
     "output_type": "stream",
     "text": [
      "{'이름': '홍길동', '나이': 26, '몸무게': 82, '직업': '율도국의 왕'}\n",
      "{'이름': '홍길동', '나이': 24, '몸무게': 82, '직업': '율도국의 왕'}\n",
      "{'이름': '홍길동', '몸무게': 82, '직업': '율도국의 왕'}\n"
     ]
    }
   ],
   "source": [
    "# 딕셔너리 항목 삽입\n",
    "person = {'이름': '홍길동', '나이': 26, '몸무게': 82}\n",
    "person['직업'] = '율도국의 왕' # 새로운 키: 값의 항목 삽입\n",
    "print(person)\n",
    "\n",
    "# 딕셔너리 항목 수정\n",
    "person['나이'] = 24\n",
    "print(person)\n",
    "\n",
    "# 딕셔너리 삽입/삭제\n",
    "del person['나이']\n",
    "print(person)"
   ]
  },
  {
   "cell_type": "code",
   "execution_count": 10,
   "metadata": {},
   "outputs": [
    {
     "name": "stdout",
     "output_type": "stream",
     "text": [
      "{'학번': 1000, '이름': '홍길동', '학과': '컴퓨터공확과'}\n",
      "{'학번': 1000, '이름': '홍길동', '학과': '컴퓨터공확과', '연럭처': '010-1111-2222'}\n",
      "{'학번': 1000, '이름': '홍길동', '학과': '파이썬 학과', '연럭처': '010-1111-2222'}\n",
      "{'학번': 1000, '이름': '홍길동', '연럭처': '010-1111-2222'}\n",
      "{'학번': 2000, '이름': '홍길동', '학과': '파이썬학과'}\n"
     ]
    }
   ],
   "source": [
    "# 여러 정보 딕셔너리 표현\n",
    "student1 = {'학번': 1000, '이름': '홍길동', '학과': '컴퓨터공확과'}\n",
    "print(student1)\n",
    "# 연락처 추가\n",
    "student1['연럭처'] = '010-1111-2222'\n",
    "print(student1)\n",
    "# 학과 수정\n",
    "student1['학과'] = '파이썬 학과'\n",
    "print(student1)\n",
    "# 학과 삭제\n",
    "del(student1['학과'])\n",
    "print(student1)\n",
    "# 동일 키를 갖는 딕셔너리를 생성하는 것이 아니라 마지막에 있는 키가 적용\n",
    "student1 = {'학번': 1000, '이름': '홍길동', '학과': '파이썬학과', '학번': 2000}\n",
    "print(student1)"
   ]
  },
  {
   "cell_type": "code",
   "execution_count": 16,
   "metadata": {},
   "outputs": [
    {
     "name": "stdout",
     "output_type": "stream",
     "text": [
      "3\n",
      "True\n",
      "False\n",
      "False\n",
      "True\n"
     ]
    }
   ],
   "source": [
    "# 딕셔너리를 위한 함수와 연산\n",
    "# len(): 딕셔너리 내의 항목의 수를 억기 위해 사용\n",
    "# in, not in: 키 값이 딕셔너리에 있는지 확인\n",
    "# ==, !=: 두 개의 딕셔너리가 동일한 항목을 가지고 있는지 확인\n",
    "person = {'이름': '홍길동', '나이': 26, '몸무게': 82}\n",
    "print(len(person))\n",
    "print('이름' in person)\n",
    "print('직업' in person)\n",
    "print('홍길동' in person) # '홍길동'은 값에 있으나 키에 없음 주의\n",
    "\n",
    "# 딕셔너리에서는 >, >=, <, <=와 같은 비교 연산을 지원하지 않는다.\n",
    "d1 = {'이름': '홍길동', '나이': 26}\n",
    "d2 = {'나이': 26, '이름': '홍길동'}\n",
    "print(d1 == d2)"
   ]
  },
  {
   "cell_type": "code",
   "execution_count": 27,
   "metadata": {},
   "outputs": [
    {
     "name": "stdout",
     "output_type": "stream",
     "text": [
      "dict_keys(['이름', '나이', '몸무게'])\n",
      "dict_values(['홍길동', 26, 82])\n",
      "dict_items([('이름', '홍길동'), ('나이', 26), ('몸무게', 82)])\n",
      "None\n",
      "홍길동\n",
      "{'이름': '홍길동', '몸무게': 82}\n",
      "{}\n"
     ]
    }
   ],
   "source": [
    "# 딕셔너리 메서드\n",
    "# keys(): 딕셔너리 내의 모든 키를 반환\n",
    "# values(): 딕셔너리 내의 모든 값을 반환\n",
    "# items(): 딕셔너리 내의 모든 항목을 [키]:[값] 쌍으로 반환\n",
    "# get(key): 키에 대한 값을 반환. 키가 없으면 None 반환\n",
    "# pop(key): 키에 대한 값을 반환, 그 항목을 삭제. 키가 없으면 KeyError 예외 발생\n",
    "# popitem(): 랜덤하게 선택된 항목을 반환하고 그 항목을 삭제\n",
    "# clear(): 딕셔너리 내의 모든 항목을 삭제\n",
    "person = {'이름': '홍길동', '나이': 26, '몸무게': 82}\n",
    "print(person.keys())\n",
    "print(person.values())\n",
    "print(person.items())\n",
    "print(person.get('취미'))\n",
    "print(person.get('이름'))\n",
    "# print(person.popitem(), person) # 랜덤하게 아이템 선택하여 반환 후 삭제\n",
    "person.pop('나이',)\n",
    "print(person)\n",
    "person.clear()\n",
    "print(person)"
   ]
  },
  {
   "cell_type": "code",
   "execution_count": 15,
   "metadata": {},
   "outputs": [
    {
     "name": "stdout",
     "output_type": "stream",
     "text": [
      "이름 : 홍길동\n",
      "나이 : 26\n",
      "몸무게 : 82\n",
      "홍길동\n",
      "26\n",
      "82\n",
      "dict_keys(['이름', '나이', '몸무게'])\n",
      "['이름', '나이', '몸무게']\n",
      "dict_items([('이름', '홍길동'), ('나이', 26), ('몸무게', 82)])\n",
      "dict_values(['홍길동', 26, 82]) <class 'dict_values'>\n",
      "True\n",
      "False\n"
     ]
    }
   ],
   "source": [
    "# 딕셔너리 항목 하나하나 열거 for-in문 사용, 항목의 키를 반환한다는 특징이 있음\n",
    "person = {'이름': '홍길동', '나이': 26, '몸무게': 82}\n",
    "for key in person:\n",
    "    print('{} : {}'.format(key, person[key]))\n",
    "    \n",
    "# 키로 값에 접근 코드\n",
    "print(person['이름'])\n",
    "print(person['나이'])\n",
    "\n",
    "# 딕셔너리명.get(키) 함수를 사용해 키로 값에 접근\n",
    "print(person.get('몸무게'))\n",
    "\n",
    "# 딕셔너리명.keys()는 딕셔너리의 모든 키 반환\n",
    "print(person.keys())\n",
    "\n",
    "# 출력 결과의 dict_keys가 보기 싫으면 list(딕셔너리명.keys())함수 사용\n",
    "print(list(person.keys()))\n",
    "\n",
    "# 딕셔너리명.items() 함수를 사용하면 튜플 형태로 구할 수 있음\n",
    "print(person.items())\n",
    "\n",
    "# 딕셔너리명.values() 함수는 딕셔너리의 모든 값을 리스트로 만들어 반환\n",
    "test1 = person.values()\n",
    "print(test1, type(test1))\n",
    "\n",
    "# 해당 키가 있는지 없는지 확인 (in)\n",
    "print('이름' in person)\n",
    "print('학번' in person)"
   ]
  },
  {
   "cell_type": "markdown",
   "metadata": {},
   "source": []
  },
  {
   "cell_type": "code",
   "execution_count": 29,
   "metadata": {},
   "outputs": [
    {
     "name": "stdout",
     "output_type": "stream",
     "text": [
      "[('Edward', '에드워드'), ('Gothen', '고등'), ('Henry', '헨리'), ('James', '제임스'), ('Tomas', '토마스')]\n"
     ]
    }
   ],
   "source": [
    "# 딕셔너리의 정렬\n",
    "# 키로 정렬한 후 딕셔너리 추출\n",
    "import operator\n",
    "\n",
    "trainDic, trainList = {}, []\n",
    "\n",
    "trainDic = {'Tomas': '토마스', 'Edward': '에드워드', 'Henry': '헨리', 'Gothen': '고등', 'James': '제임스'}\n",
    "# 리스트를 튜플 형태로 변환, 리스트의 0번째 요소를 정렬\n",
    "trainList = sorted(trainDic.items(), key = operator.itemgetter(0))\n",
    "\n",
    "print(trainList)"
   ]
  },
  {
   "cell_type": "code",
   "execution_count": 37,
   "metadata": {},
   "outputs": [
    {
     "name": "stdout",
     "output_type": "stream",
     "text": [
      "[{'name': 'sally', 'age': 17, 'grade': 'C'}, {'name': 'jane', 'age': 22, 'grade': 'A'}, {'name': 'dave', 'age': 32, 'grade': 'B'}]\n",
      "[{'name': 'dave', 'age': 32, 'grade': 'B'}, {'name': 'jane', 'age': 22, 'grade': 'A'}, {'name': 'sally', 'age': 17, 'grade': 'C'}]\n",
      "[{'name': 'jane', 'age': 22, 'grade': 'A'}, {'name': 'dave', 'age': 32, 'grade': 'B'}, {'name': 'sally', 'age': 17, 'grade': 'C'}]\n"
     ]
    }
   ],
   "source": [
    "from operator import itemgetter\n",
    "\n",
    "students = [\n",
    "    {\"name\": \"jane\", \"age\": 22, \"grade\": 'A'},\n",
    "    {\"name\": \"dave\", \"age\": 32, \"grade\": 'B'},\n",
    "    {\"name\": \"sally\", \"age\": 17, \"grade\": 'C'}\n",
    "]\n",
    "result1 = sorted(students, key=itemgetter('age'))\n",
    "print(result1)\n",
    "result2 = sorted(students, key=itemgetter('name'))\n",
    "result3 = sorted(students, key=itemgetter('grade'))\n",
    "print(result2)\n",
    "print(result3)"
   ]
  }
 ],
 "metadata": {
  "kernelspec": {
   "display_name": "Python 3",
   "language": "python",
   "name": "python3"
  },
  "language_info": {
   "codemirror_mode": {
    "name": "ipython",
    "version": 3
   },
   "file_extension": ".py",
   "mimetype": "text/x-python",
   "name": "python",
   "nbconvert_exporter": "python",
   "pygments_lexer": "ipython3",
   "version": "3.10.2"
  }
 },
 "nbformat": 4,
 "nbformat_minor": 2
}
