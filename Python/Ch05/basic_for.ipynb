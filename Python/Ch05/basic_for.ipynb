{
 "cells": [
  {
   "cell_type": "markdown",
   "metadata": {},
   "source": [
    "01. 기본 for문"
   ]
  },
  {
   "cell_type": "code",
   "execution_count": 5,
   "metadata": {},
   "outputs": [
    {
     "name": "stdout",
     "output_type": "stream",
     "text": [
      "i =  1 , 9 * 1 = 9\n",
      "i =  2 , 9 * 2 = 18\n",
      "i =  3 , 9 * 3 = 27\n",
      "i =  4 , 9 * 4 = 36\n",
      "i =  5 , 9 * 5 = 45\n"
     ]
    }
   ],
   "source": [
    "'''\n",
    "    1)\n",
    "    for 변수 in range(시작값, 끝값+1, 증가값):\n",
    "        이 부분 반복\n",
    "        \n",
    "    2)\n",
    "    for i in [1,2,3,4,5]:\n",
    "    \n",
    "    #_(언더바): i를 사용하지 않으려면 i 대신 사용 가능 \n",
    "'''\n",
    "for i in [1,2,3,4,5]:\n",
    "    print(\"i = \",i,\", 9 *\", i,\"=\", 9*i)\n",
    "    "
   ]
  },
  {
   "cell_type": "code",
   "execution_count": 7,
   "metadata": {},
   "outputs": [
    {
     "name": "stdout",
     "output_type": "stream",
     "text": [
      "2\n",
      "1\n",
      "0\n",
      "1  2  3  4  5  "
     ]
    }
   ],
   "source": [
    "for i in range(2, -1, -1):\n",
    "    #2부터 시작, 0까지 종료, -1만큼 스탭\n",
    "    print(\"%d\" %i)\n",
    "for i in range(1, 6, 1):\n",
    "    #1부터 시작, 5부터 종료, 1만큼 스탭\n",
    "    print(\"%d \"%i,end=\" \")"
   ]
  },
  {
   "cell_type": "code",
   "execution_count": 10,
   "metadata": {},
   "outputs": [
    {
     "name": "stdout",
     "output_type": "stream",
     "text": [
      "7의 배숫 합계: 735\n"
     ]
    }
   ],
   "source": [
    "#0과 100사이에 있는 7의 배수 합계\n",
    "result = 0\n",
    "for i in range(0, 101, 7):\n",
    "    result += i\n",
    "print(f\"7의 배숫 합계: {result}\")"
   ]
  },
  {
   "cell_type": "code",
   "execution_count": 12,
   "metadata": {},
   "outputs": [
    {
     "name": "stdout",
     "output_type": "stream",
     "text": [
      "n은 120 이다.\n"
     ]
    }
   ],
   "source": [
    "#반복을 이용하여 팩토리얼 계산하기\n",
    "n = int(input(\"정수를 입력하시오? \"))\n",
    "fact = 1\n",
    "for i in range(1, n+1):\n",
    "    fact = fact * i\n",
    "print(f\"n은 {fact} 이다.\")"
   ]
  },
  {
   "cell_type": "markdown",
   "metadata": {},
   "source": [
    "02. 중첩 for문"
   ]
  },
  {
   "cell_type": "markdown",
   "metadata": {},
   "source": [
    "3. whie문"
   ]
  },
  {
   "cell_type": "markdown",
   "metadata": {},
   "source": [
    "4. break문과 continue문"
   ]
  }
 ],
 "metadata": {
  "kernelspec": {
   "display_name": "Python 3",
   "language": "python",
   "name": "python3"
  },
  "language_info": {
   "codemirror_mode": {
    "name": "ipython",
    "version": 3
   },
   "file_extension": ".py",
   "mimetype": "text/x-python",
   "name": "python",
   "nbconvert_exporter": "python",
   "pygments_lexer": "ipython3",
   "version": "3.10.2"
  },
  "orig_nbformat": 4
 },
 "nbformat": 4,
 "nbformat_minor": 2
}
