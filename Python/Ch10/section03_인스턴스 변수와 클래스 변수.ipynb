{
 "cells": [
  {
   "cell_type": "markdown",
   "metadata": {},
   "source": [
    "- 인스턴스 변수"
   ]
  },
  {
   "cell_type": "code",
   "execution_count": null,
   "metadata": {},
   "outputs": [],
   "source": [
    "# Car 클래스 2개의 피러드\n",
    "class Car:\n",
    "    color=\"\"    # 필드 : 인스턴스 변수\n",
    "    speed=0     # 필드 : 인스턴스 변수\n",
    "    \n",
    "# 클래스를 이용한 메인 코드에서 인스턴스 만들기\n",
    "myCar1 = Car()\n",
    "myCar2 = Car()"
   ]
  },
  {
   "cell_type": "markdown",
   "metadata": {},
   "source": [
    "- 자동차 생산 대수 확인"
   ]
  },
  {
   "cell_type": "code",
   "execution_count": 3,
   "metadata": {},
   "outputs": [
    {
     "name": "stdout",
     "output_type": "stream",
     "text": [
      "자동차1의 현재 속도는 30km, 생산된 자동차는 총 1대 입니다.\n",
      "자동차2의 현재 속도는 60km, 생산된 자동차는 총 2대 입니다.\n"
     ]
    }
   ],
   "source": [
    "class Car:\n",
    "    count = 0   # 클래스 변수\n",
    "    \n",
    "    def __init__(self, color=\"\", speed=0):\n",
    "        self.color = color\n",
    "        self.speed = speed\n",
    "        Car.count += 1\n",
    "    \n",
    "    def printMessage():\n",
    "        print(\"Test Message\")\n",
    "\n",
    "# 변수 선언\n",
    "myCar1, myCar2 = None, None\n",
    "\n",
    "### 인스턴스 생성, 필드-메소드 사용 ###\n",
    "# Car.count나 myCar1.count 또는 myCar2.count와 다른 차이는 없으나\n",
    "# 가독성과 유지 보수를 위해 클래스 변수는 보통 클래스 이름을 통해 접근하는게 일반적\n",
    "myCar1 = Car()\n",
    "myCar1.speed = 30\n",
    "print(\"자동차1의 현재 속도는 %dkm, 생산된 자동차는 총 %d대 입니다.\" % (myCar1.speed, Car.count))\n",
    "\n",
    "myCar2 = Car()\n",
    "myCar2.speed = 60\n",
    "print(\"자동차2의 현재 속도는 %dkm, 생산된 자동차는 총 %d대 입니다.\" % (myCar2.speed, Car.count))"
   ]
  }
 ],
 "metadata": {
  "kernelspec": {
   "display_name": "Python 3",
   "language": "python",
   "name": "python3"
  },
  "language_info": {
   "codemirror_mode": {
    "name": "ipython",
    "version": 3
   },
   "file_extension": ".py",
   "mimetype": "text/x-python",
   "name": "python",
   "nbconvert_exporter": "python",
   "pygments_lexer": "ipython3",
   "version": "3.10.2"
  }
 },
 "nbformat": 4,
 "nbformat_minor": 2
}
