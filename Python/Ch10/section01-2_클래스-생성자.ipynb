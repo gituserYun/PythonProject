{
 "cells": [
  {
   "cell_type": "markdown",
   "metadata": {},
   "source": [
    "- 클래스의 개념"
   ]
  },
  {
   "cell_type": "code",
   "execution_count": null,
   "metadata": {},
   "outputs": [],
   "source": [
    "# '자동차 클래스'\n",
    "class Car:\n",
    "    # 자동차 속성은 '자동차 클래스/인스턴스 변수' 혹은 '자동차 필드'\n",
    "    # \"클래스명.변수명\" ex) \"Car.color\"로 클래스 내외부에서 엑세스\n",
    "    color = \"\"\n",
    "    speed = 0\n",
    "    \n",
    "    # 클래스 안에 구현된 함수는 메소드(method)라 함\n",
    "    # '자동차 메소드'\n",
    "    def upSpeed():\n",
    "        # 현재 속도에서 증가할_속도량만큼 속도를 올리는 코드\n",
    "        \n",
    "    def downSpeed():\n",
    "        # 현재 속도에서 감소할_속도량만큼 속도를 내리는 코드"
   ]
  },
  {
   "cell_type": "markdown",
   "metadata": {},
   "source": [
    "- 직사각형 클래스"
   ]
  },
  {
   "cell_type": "code",
   "execution_count": 17,
   "metadata": {},
   "outputs": [
    {
     "name": "stdout",
     "output_type": "stream",
     "text": [
      "calcArea Metod:200, Rectangle.count:1\n",
      "calcArea Metod:300, Rectangle.count:2\n",
      "calcArea Metod:1, Rectangle.count:3\n"
     ]
    }
   ],
   "source": [
    "class Rectangle:\n",
    "    # 클래스 변수(class variable)\n",
    "    # 클래스 정의에서 메소드 밖에 존재하는 변수, 하나의 클래스에 하나만 존재\n",
    "    count = 0 \n",
    "    \n",
    "    # 초기자(initializer)\n",
    "    def __init__(self, width = 1, height = 1):\n",
    "        # 인스턴스 변수(instance variable)\n",
    "        # 각 객체 인스턴스마다 별도 존재\n",
    "        # 클래스 내부 -> self.*\n",
    "        # 클래스 외부 -> 객체변수.인스턴스변수\n",
    "        self.width = width\n",
    "        self.height = height\n",
    "        Rectangle.count += 1\n",
    "        \n",
    "    # 메소드\n",
    "    def calcArea(self):\n",
    "        area = self.width * self.height\n",
    "        return area\n",
    "    \n",
    "rec1 = Rectangle(10,20)\n",
    "print(f\"calcArea Metod:{rec1.calcArea()}, Rectangle.count:{rec1.count}\")\n",
    "# print(Rectangle.count)\n",
    "rec2 = Rectangle(30,10)\n",
    "print(f\"calcArea Metod:{rec2.calcArea()}, Rectangle.count:{rec2.count}\")\n",
    "rec3 = Rectangle()\n",
    "print(f\"calcArea Metod:{rec3.calcArea()}, Rectangle.count:{rec3.count}\")"
   ]
  },
  {
   "cell_type": "markdown",
   "metadata": {},
   "source": [
    "- 자동차 클래스"
   ]
  },
  {
   "cell_type": "code",
   "execution_count": 34,
   "metadata": {},
   "outputs": [
    {
     "name": "stdout",
     "output_type": "stream",
     "text": [
      "자동차1의 색상은 '빨강'이며, 현재 속도는 '30km' 입니다.\n",
      "자동차2의 색상은 '파랑'이며, 현재 속도는 '60km' 입니다.\n",
      "자동차3의 색상은 '노랑'이며, 현재 속도는 '150km' 입니다.\n"
     ]
    }
   ],
   "source": [
    "### 클래스 선언 부분 ###\n",
    "class Car:\n",
    "    # 생성자: 인스턴스를 생성하면서 필드값을 초기화시키는 함수\n",
    "    def __init__(self,color=\"빨강\",speed=0):\n",
    "        self.color=color\n",
    "        self.speed=speed\n",
    "        \n",
    "    def upSpeed(self, value):\n",
    "        self.speed += value\n",
    "        if self.speed > 150:\n",
    "             self.speed = 150\n",
    "             \n",
    "    def downSpeed(self, value):\n",
    "        self.speed -= value\n",
    "    \n",
    "    def printMessage():\n",
    "        # printMessage()안에서는 필드를 사용하지 않으므로 self 생략 가능\n",
    "        print(\"Test Message\")   \n",
    "    \n",
    "### 인스턴스 생성 ###\n",
    "myCar1 = Car()\n",
    "### 필드나 메소드 사용 ###\n",
    "# myCar1.color = \"빨강\"\n",
    "myCar1.upSpeed(30)\n",
    "print(\"자동차1의 색상은 '%s'이며, 현재 속도는 '%dkm' 입니다.\" % (myCar1.color, myCar1.speed))\n",
    "\n",
    "myCar2 = Car()\n",
    "myCar2.color = \"파랑\"\n",
    "myCar2.upSpeed(60)\n",
    "print(\"자동차2의 색상은 '%s'이며, 현재 속도는 '%dkm' 입니다.\" % (myCar2.color, myCar2.speed))\n",
    "\n",
    "myCar3 = Car()\n",
    "myCar3.color = \"노랑\"\n",
    "myCar3.upSpeed(200)\n",
    "print(\"자동차3의 색상은 '%s'이며, 현재 속도는 '%dkm' 입니다.\" % (myCar3.color, myCar3.speed))\n"
   ]
  },
  {
   "cell_type": "code",
   "execution_count": 32,
   "metadata": {},
   "outputs": [
    {
     "name": "stdout",
     "output_type": "stream",
     "text": [
      "자동차4의 색상은 '초록'이며, 현재 속도는 '30km' 입니다.\n",
      "자동차5의 색상은 '주황'이며, 현재 속도는 '60km' 입니다.\n"
     ]
    }
   ],
   "source": [
    "myCar4 = Car(\"초록\",30)\n",
    "myCar5 = Car(\"주황\",60)\n",
    "print(\"자동차4의 색상은 '%s'이며, 현재 속도는 '%dkm' 입니다.\" % (myCar4.color, myCar4.speed))\n",
    "print(\"자동차5의 색상은 '%s'이며, 현재 속도는 '%dkm' 입니다.\" % (myCar5.color, myCar5.speed))"
   ]
  },
  {
   "cell_type": "markdown",
   "metadata": {},
   "source": [
    "- Cat 클래스 정의와 meow() 메소드"
   ]
  },
  {
   "cell_type": "code",
   "execution_count": 33,
   "metadata": {},
   "outputs": [
    {
     "name": "stdout",
     "output_type": "stream",
     "text": [
      "야옹 야옹~~\n"
     ]
    }
   ],
   "source": [
    "### 클래스 선언부 ###\n",
    "class Cat:\n",
    "    def meow(self):\n",
    "        print(\"야옹 야옹~~\")\n",
    "\n",
    "### 인스턴스 생성 ###\n",
    "nabi = Cat()\n",
    "### 필드나 메소드 사용 ###\n",
    "nabi.meow()"
   ]
  },
  {
   "cell_type": "code",
   "execution_count": 40,
   "metadata": {},
   "outputs": [
    {
     "name": "stdout",
     "output_type": "stream",
     "text": [
      "내 이름은 나비, 색깔은 검정색, 야옹~야옹~\n",
      "내 이름은 네로, 색깔은 흰색, 야옹~야옹~\n",
      "내 이름은 미미, 색깔은 갈색, 야옹~야옹~\n"
     ]
    }
   ],
   "source": [
    "### 클래스 선언부 ###\n",
    "class Cat:\n",
    "    # 생성자 혹은 초기화 메소드라 함\n",
    "    def __init__(self, name=\"\", color='흰색'):\n",
    "        self.name = name\n",
    "        self.color = color\n",
    "    \n",
    "    # 고양이의 정보를 출력하는 메소드\n",
    "    def meow(self):\n",
    "        print(\"내 이름은 {}, 색깔은 {}, 야옹~야옹~\".format(self.name, self.color))\n",
    "\n",
    "### 인스턴스 생성 ###\n",
    "nabi = Cat('나비', '검정색')\n",
    "nero = Cat('네로')\n",
    "mimi = Cat('미미', '갈색')\n",
    "\n",
    "### 필드나 메소드 사용 ###\n",
    "nabi.meow()\n",
    "nero.meow()\n",
    "mimi.meow()"
   ]
  },
  {
   "cell_type": "code",
   "execution_count": 43,
   "metadata": {},
   "outputs": [
    {
     "name": "stdout",
     "output_type": "stream",
     "text": [
      "내 이름은 나비1, 색깔은 검정색, 야옹~야옹~\n"
     ]
    }
   ],
   "source": [
    "### 인스턴스 생성 ###\n",
    "nabi1 = Cat()\n",
    "nabi1.name = \"나비1\"\n",
    "nabi1.color = \"검정색\"\n",
    "nabi1.meow()"
   ]
  },
  {
   "cell_type": "code",
   "execution_count": 47,
   "metadata": {},
   "outputs": [
    {
     "name": "stdout",
     "output_type": "stream",
     "text": [
      "Cat(name=나비, color=검정색)\n",
      "Cat(name=네로, color=흰색)\n",
      "nabi의 정보: Cat(name=나비, color=검정색)\n"
     ]
    }
   ],
   "source": [
    "# __str__ 메소드와 print() 함수에서 적용하기\n",
    "class Cat:\n",
    "    def __init__(self, name, color):\n",
    "        self.name = name\n",
    "        self.color = color\n",
    "        \n",
    "    # cat 객체의 문자열 표현 방식\n",
    "    def __str__(self):\n",
    "        return 'Cat(name=' + self.name + ', color=' + self.color + ')'\n",
    "    \n",
    "nabi = Cat('나비', '검정색')\n",
    "nero = Cat('네로', '흰색')  \n",
    "print(nabi)\n",
    "print(nero)\n",
    "print('nabi의 정보: {}'.format(nabi))"
   ]
  },
  {
   "cell_type": "markdown",
   "metadata": {},
   "source": [
    "- 자동차 클래스(생성자)"
   ]
  },
  {
   "cell_type": "code",
   "execution_count": 1,
   "metadata": {},
   "outputs": [
    {
     "name": "stdout",
     "output_type": "stream",
     "text": [
      "'소나타' 현재 속도 0\n",
      "'아반떼' 현재 속도 30\n"
     ]
    }
   ],
   "source": [
    "class Car:\n",
    "    def __init__(self, name=\"\", speed=0):\n",
    "        self.name = name\n",
    "        self.speed = speed\n",
    "        \n",
    "    # getName(), getSpeed()메서드를 만들고 자동차의 이름과 현재 속도 반환\n",
    "    def getName(self):\n",
    "        return self.name\n",
    "    \n",
    "    def getSpeed(self):\n",
    "        return self.speed\n",
    "    \n",
    "### 전역 변수 선언 부분 ###\n",
    "car1, car2 = None, None\n",
    "\n",
    "### 인스턴스 생성 ###\n",
    "car1 = Car(\"소나타\", 0)\n",
    "car2 = Car(\"아반떼\", 30)\n",
    "\n",
    "print(\"'%s' 현재 속도 %d\" % (car1.getName(), car1.getSpeed()))\n",
    "print(\"'%s' 현재 속도 %d\" % (car2.getName(), car2.getSpeed()))"
   ]
  }
 ],
 "metadata": {
  "kernelspec": {
   "display_name": "Python 3",
   "language": "python",
   "name": "python3"
  },
  "language_info": {
   "codemirror_mode": {
    "name": "ipython",
    "version": 3
   },
   "file_extension": ".py",
   "mimetype": "text/x-python",
   "name": "python",
   "nbconvert_exporter": "python",
   "pygments_lexer": "ipython3",
   "version": "3.10.2"
  }
 },
 "nbformat": 4,
 "nbformat_minor": 2
}
