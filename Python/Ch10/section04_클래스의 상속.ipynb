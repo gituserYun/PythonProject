{
 "cells": [
  {
   "cell_type": "markdown",
   "metadata": {},
   "source": [
    "- 상속의 개념"
   ]
  },
  {
   "cell_type": "code",
   "execution_count": null,
   "metadata": {},
   "outputs": [],
   "source": [
    "# 상속(Inheritance): 기존 클래스에 있는 필드와 메서드를 그대로 물려받는 새로운 클래스 생성\n",
    "# Python은 다른 언어에서 사용하는 접근 제한자(Access Modifier)를 갖지 않는다.\n",
    "# 기본은 public('_': 밑줄), 특정 변수명이나 메서드 private('__': 두개의 밑줄)을 앞에 붙임\n",
    "\n",
    "def __init__(self, width, height):\n",
    "    self.width = width\n",
    "    self.height = height\n",
    "    # private 변수 __area\n",
    "    self.__area = width * height\n",
    "    \n",
    "# private 메서드\n",
    "def __internalRun(self):\n",
    "    pass"
   ]
  },
  {
   "cell_type": "markdown",
   "metadata": {},
   "source": [
    "- 상속을 구현하는 문법"
   ]
  },
  {
   "cell_type": "code",
   "execution_count": 4,
   "metadata": {},
   "outputs": [
    {
     "name": "stdout",
     "output_type": "stream",
     "text": [
      "Car Name: 아반떼, Car Speed: 100\n",
      "Truck Name: 봉고, Truck Speed: 50, Truck Loadage: 10\n"
     ]
    }
   ],
   "source": [
    "class Car:\n",
    "    def __init__(self, name=\"\", speed=0):\n",
    "        self.name = name\n",
    "        self.speed = speed\n",
    "        \n",
    "    def getName(self):\n",
    "        return self.name\n",
    "\n",
    "    def getSpeed(self):\n",
    "        return self.speed\n",
    "    \n",
    "# 상속\n",
    "# class 서브_클래스(슈퍼_클래스): or class 자식클래스이름(부모클래스이름):\n",
    "class Truck(Car):\n",
    "    \n",
    "    def __init__(self, loadage):\n",
    "        # super(자식클래스이름, self).__init__: 부모 클래스의 초기화 생성자를 호출\n",
    "        super(Truck, self).__init__()\n",
    "        self.truckLoadage = loadage\n",
    "        \n",
    "    def getLoadage(self):\n",
    "        return self.truckLoadage\n",
    "    \n",
    "# Car 클래스의 인스턴스 생성\n",
    "car1 = Car(\"아반떼\", 100)\n",
    "print(f\"Car Name: {car1.getName()}, Car Speed: {car1.getSpeed()}\")\n",
    "\n",
    "# Truck 클래스의 인스턴스 생성\n",
    "truck = Truck(10)\n",
    "truck.name = \"봉고\"\n",
    "truck.speed = 50\n",
    "print(f\"Truck Name: {truck.getName()}, Truck Speed: {truck.getSpeed()}, Truck Loadage: {truck.getLoadage()}\")"
   ]
  },
  {
   "cell_type": "markdown",
   "metadata": {},
   "source": [
    "- super()로 부모 클래스 초기화하기"
   ]
  },
  {
   "cell_type": "code",
   "execution_count": 10,
   "metadata": {},
   "outputs": [
    {
     "name": "stdout",
     "output_type": "stream",
     "text": [
      "Person __init__\n",
      "Hello.\n",
      "\n",
      "Student __init__\n",
      "Person __init__\n",
      "Python Coding Hello.\n"
     ]
    }
   ],
   "source": [
    "class Person:\n",
    "    def __init__(self):\n",
    "        print('Person __init__')\n",
    "        self.hello = 'Hello.'\n",
    "             \n",
    "class Student(Person):\n",
    "    def __init__(self):\n",
    "        print('Student __init__')\n",
    "        # super()를 사용해서 부모 클래스의 __init__ 메서드를 호출\n",
    "        super().__init__()\n",
    "        self.school = 'Python Coding'\n",
    "        \n",
    "person1 = Person()  # print문 동작 -> Person __init__\n",
    "print(person1.hello + \"\\n\")\n",
    "\n",
    "james = Student()   # print문 동작 -> Student __init__ Person __init__\n",
    "print(james.school + \" \" + james.hello)"
   ]
  },
  {
   "cell_type": "code",
   "execution_count": 11,
   "metadata": {},
   "outputs": [
    {
     "name": "stdout",
     "output_type": "stream",
     "text": [
      "Person __init__\n",
      "Hello.\n",
      "\n",
      "Student __init__\n",
      "Person __init__\n",
      "Python Coding Hello.\n"
     ]
    }
   ],
   "source": [
    "class Person:\n",
    "    def __init__(self):\n",
    "        print('Person __init__')\n",
    "        self.hello = 'Hello.'\n",
    "             \n",
    "class Student(Person):\n",
    "    def __init__(self):\n",
    "        print('Student __init__')\n",
    "        # super()를 사용해서 부모 클래스의 __init__ 메서드를 호출\n",
    "        super(Student, self).__init__()\n",
    "        self.school = 'Python Coding'\n",
    "        \n",
    "person1 = Person()  # print문 동작 -> Person __init__\n",
    "print(person1.hello + \"\\n\")\n",
    "\n",
    "james = Student()   # print문 동작 -> Student __init__ Person __init__\n",
    "print(james.school + \" \" + james.hello)"
   ]
  },
  {
   "cell_type": "code",
   "execution_count": 12,
   "metadata": {},
   "outputs": [
    {
     "name": "stdout",
     "output_type": "stream",
     "text": [
      "Person __init__\n",
      "Hello.\n",
      "\n",
      "Person __init__\n",
      "Hello.\n"
     ]
    }
   ],
   "source": [
    "class Person:\n",
    "    def __init__(self):\n",
    "        print('Person __init__')\n",
    "        self.hello = 'Hello.'\n",
    "             \n",
    "class Student(Person):\n",
    "   pass\n",
    "        \n",
    "person1 = Person()  # print문 동작 -> Person __init__\n",
    "print(person1.hello + \"\\n\")\n",
    "\n",
    "james = Student()   # print문 동작 -> Student __init__ Person __init__\n",
    "print(james.hello)"
   ]
  },
  {
   "cell_type": "markdown",
   "metadata": {},
   "source": [
    "- 메서드 오버라이딩(Method overriding)"
   ]
  },
  {
   "cell_type": "code",
   "execution_count": 6,
   "metadata": {},
   "outputs": [
    {
     "name": "stdout",
     "output_type": "stream",
     "text": [
      "자동차 -->현재 속도(슈퍼 클래스): 200\n",
      "트럭 -->현재 속도(슈퍼 클래스): 200\n",
      "승용차 -->현재 속도(서브 클래스): 150\n",
      "소나타 -->현재 속도(서브 클래스): 150\n"
     ]
    }
   ],
   "source": [
    "# 상위 클래스의 메서드를 서브 클래스에서 재정의\n",
    "class Car:\n",
    "    speed = 0\n",
    "    def upSpeed(self, value):\n",
    "        self.speed = value\n",
    "        print(\"현재 속도(슈퍼 클래스): %d\" % (self.speed))\n",
    "        \n",
    "class Sedan(Car):\n",
    "    # 서브 클래스(Sedan)의 upSpeed()메서드 다시 만듬\n",
    "    def upSpeed(self,value):\n",
    "        self.speed = value\n",
    "        if self.speed>150:\n",
    "            self.speed = 150\n",
    "            \n",
    "        print(\"현재 속도(서브 클래스): %d\" % (self.speed))\n",
    "\n",
    "class Truck(Car):\n",
    "    pass\n",
    "\n",
    "class Sonata(Sedan):\n",
    "    pass\n",
    "\n",
    "car1, sedan1 , truck1 = None, None, None\n",
    "car1 = Car()\n",
    "truck1 = Truck()\n",
    "sedan1 = Sedan()\n",
    "sonata1 = Sonata()\n",
    "\n",
    "print(\"자동차 -->\", end=\"\")\n",
    "car1.upSpeed(200)\n",
    "\n",
    "print(\"트럭 -->\", end=\"\")\n",
    "truck1.upSpeed(200)\n",
    "\n",
    "print(\"승용차 -->\", end=\"\")\n",
    "sedan1.upSpeed(200)\n",
    "\n",
    "print(\"소나타 -->\", end=\"\")\n",
    "sonata1.upSpeed(300)"
   ]
  },
  {
   "cell_type": "markdown",
   "metadata": {},
   "source": [
    "- 거북이로 객체지향 사각형 그리기"
   ]
  },
  {
   "cell_type": "code",
   "execution_count": null,
   "metadata": {},
   "outputs": [],
   "source": [
    "import turtle\n",
    "import random\n",
    "\n",
    "# 부모 클래스(슈퍼 클래스 도형(Shape) 클래스 선언)\n",
    "class Shape:\n",
    "    # cs, cy 사각형 및 원의 중심, 도형에 ㅓ공통으로 사용할 필드 준비\n",
    "    def __init__(self, myTrutle=None, cx=0, cy=0):\n",
    "        self.myTurtle = turtle.Turtle('turtle') # 거북이 생성\n",
    "        self.cx = cx\n",
    "        self.cy = cy\n",
    "    \n",
    "    # 펜 색상과 두께를 랜덤하게 뽑기, 색상-선-두께 무작위 추출하는 메서드 선언\n",
    "    def setPen(self):\n",
    "        r = random.random()\n",
    "        g = random.random()\n",
    "        b = random.random()\n",
    "        self.myTurtle.pencolor((r,g,b))\n",
    "        pSize = random.randrange(1,10)\n",
    "        self.myTurtle.pensize(pSize)\n",
    "        \n",
    "    # 하위 클래스에서 상속받아서 오버라이딩, drawHape()메서드는 서브 클래스에서 오버라이딩\n",
    "    def drawShape(self):\n",
    "        pass\n",
    "    \n",
    "# 자식 클래스(서브 클래스인 사강형(Rectangle)을 정의)\n",
    "class Rectangle(Shape):\n",
    "    width, height = [0] * 2 # Reactangle에 필요한 속성 폭-넓이 준비\n",
    "    def __init__(self, x, y):\n",
    "        super(Rectangle, self).__init__() # Shape.__init(self)\n",
    "        # 사각형 중심을 x,y로 받아 슈퍼 클래스에서 상속받은 속성인 cx, cy에 대입\n",
    "        self.cx = x\n",
    "        self.cy = y\n",
    "        # 사각형 폭과 높이를 무작위로 추출\n",
    "        self.width = random.randrange(20, 100)\n",
    "        self.height = random.randrange(20, 100)\n",
    "        \n",
    "    # 슈퍼클래스의 drawShape() 메서드 오버라이딩\n",
    "    def drawShape(self):\n",
    "        # 네모 그리기, 왼쪽 위 x, y 와 오른쪽 아래 x,y\n",
    "        sx1, sy1, sx2, sy2 = [0] * 4\n",
    "        \n",
    "        sx1 = self.cx - self.width/2\n",
    "        sy1 = self.cy - self.height/2\n",
    "        sx2 = self.cx + self.width/2\n",
    "        sy2 = self.cy + self.height/2\n",
    "        \n",
    "        # 부모 클래스 메서드\n",
    "        self.setPen()\n",
    "        self.myTurtle.penup()\n",
    "        self.myTurtle.goto(sx1, sy1)\n",
    "        self.myTurtle.pendown()\n",
    "        self.myTurtle.goto(sx1, sy2)\n",
    "        self.myTurtle.goto(sx2, sy2)\n",
    "        self.myTurtle.goto(sx2, sy1)\n",
    "        self.myTurtle.goto(sx1, sy1)\n",
    "        \n",
    "def screenLeftClick(x, y):\n",
    "    rect = Rectangle(x,y)\n",
    "    rect.drawShape()    \n",
    "\n",
    "turtle.title('거북이로 객체지향 사각형 그리기')\n",
    "turtle.onscreenclick(screenLeftClick , 1)\n",
    "turtle.done()"
   ]
  },
  {
   "cell_type": "code",
   "execution_count": 8,
   "metadata": {},
   "outputs": [
    {
     "name": "stdout",
     "output_type": "stream",
     "text": [
      "슈퍼 클래스 메서드 실행~~\n",
      "서브 클래스 메서드 실행~~\n",
      "슈퍼 클래스 value:  슈퍼 값\n",
      "서브 클래스 value:  서브 값\n"
     ]
    }
   ],
   "source": [
    "# 서브 클래스에서 메서드 오버라이딩을 할 때, 슈퍼 클래스의 메서드나 속성을 사용해야 하는 경우가 있음\n",
    "# super() 메서드\n",
    "\n",
    "class Car():\n",
    "    value = '슈퍼 값'\n",
    "    def carMethod(self):\n",
    "        print('슈퍼 클래스 메서드 실행~~')\n",
    "\n",
    "    \n",
    "class Sedan(Car):\n",
    "    value = '서브 값'\n",
    "    def carMethod(self):\n",
    "        super().carMethod() # Car 클래스의 carMethod()가 실행됨\n",
    "        print('서브 클래스 메서드 실행~~')\n",
    "        print('슈퍼 클래스 value: ', super().value) # Car 클래스의 value가 출력됨\n",
    "        print('서브 클래스 value: ', self.value) # Sedan 클래스의 value가 출력됨\n",
    "\n",
    "sedan1 = Sedan()\n",
    "sedan1.carMethod()"
   ]
  },
  {
   "cell_type": "markdown",
   "metadata": {},
   "source": [
    "- 캡슐화"
   ]
  },
  {
   "cell_type": "code",
   "execution_count": 19,
   "metadata": {},
   "outputs": [
    {
     "name": "stdout",
     "output_type": "stream",
     "text": [
      "Cat(name=나비age = 3)\n",
      "Cat(name=나비age = 4)\n",
      "Cat(name=나비age = 4)\n"
     ]
    }
   ],
   "source": [
    "# 캡슐화(encapsulation)\n",
    "# 메소드와 변수를 외부에서 함부로 조작하는 것 제한, 데이터 보호, 우연히 값 변경되는 것 제한\n",
    "# 더블 스코어 변수명 (__변수): 선언된 클래스 안에서만 해당 이름으로 사용 가능\n",
    "\n",
    "class Cat:\n",
    "    def __init__(self, name, age):\n",
    "        self.__name = name\n",
    "        self.__age = age\n",
    "\n",
    "    # Cat 문자열 표현 방식\n",
    "    def __str__(self):\n",
    "        return 'Cat(name=' + self.__name + 'age = ' + str(self.__age) + ')'        \n",
    "\n",
    "    # self.__age를 외부에서 자유롭게 접근하는 것을 제한하고 음수가 되지 않도록 함\n",
    "    def set_age(self, age):\n",
    "        if age > 0:\n",
    "            self.__age = age\n",
    "    def get_age(self):\n",
    "        return self.__age\n",
    "\n",
    "nabi = Cat('나비', 3) # nabi 인스턴스 생성\n",
    "print(nabi)\n",
    "nabi.set_age(4) # set_age() 메소드를 통해서 age에 접근\n",
    "print(nabi)\n",
    "nabi.set_age(-5) # set_age() 메소드를 통해서 age가 음수가 되지 않도록 함\n",
    "print(nabi)\n"
   ]
  },
  {
   "cell_type": "markdown",
   "metadata": {},
   "source": [
    "- 객체의 identity operator: is, is not"
   ]
  },
  {
   "cell_type": "code",
   "execution_count": 21,
   "metadata": {},
   "outputs": [
    {
     "name": "stdout",
     "output_type": "stream",
     "text": [
      "list_a is not list_b\n",
      "id(list_a) = 2562940297280, id(list_b_ = 2562918077504)\n"
     ]
    }
   ],
   "source": [
    "# is 연산자는 두 인스턴스가 같으면 True를 반환, 그렇지 않으면 False 반환\n",
    "list_a = [10,20,30]\n",
    "list_b = [10,20,30]\n",
    "\n",
    "if list_a is list_b:\n",
    "    print('list_a is list_b')\n",
    "else:\n",
    "    print('list_a is not list_b')\n",
    "\n",
    "print(f\"id(list_a) = {id(list_a)}, id(list_b_) = {id(list_b)}\")"
   ]
  },
  {
   "cell_type": "code",
   "execution_count": 22,
   "metadata": {},
   "outputs": [
    {
     "name": "stdout",
     "output_type": "stream",
     "text": [
      "list_a == list_b\n"
     ]
    }
   ],
   "source": [
    "# '==' 연산자는 두 인스턴스의 속성 값 즉 인스턴스 변수 값이 서로 일치하는지 확인하는 데 사용\n",
    "list_a = [10,20,30]\n",
    "list_b = [10,20,30]\n",
    "\n",
    "if list_a == list_b:\n",
    "    print('list_a == list_b')\n",
    "else:\n",
    "    print('list_a != list_b')\n"
   ]
  },
  {
   "cell_type": "code",
   "execution_count": 28,
   "metadata": {},
   "outputs": [
    {
     "name": "stdout",
     "output_type": "stream",
     "text": [
      "a is b\n",
      "id(a) = 2562842747632, id(b) = 2562842747632\n"
     ]
    }
   ],
   "source": [
    "a = 'ABC'\n",
    "b = 'ABC'\n",
    "if a is b:\n",
    "    print('a is b')\n",
    "else:\n",
    "    print('a is not b')\n",
    "print(f\"id(a) = {id(a)}, id(b) = {id(b)}\")"
   ]
  },
  {
   "cell_type": "code",
   "execution_count": 35,
   "metadata": {},
   "outputs": [
    {
     "name": "stdout",
     "output_type": "stream",
     "text": [
      "c1의 면적: 50.24\n",
      "c2의 면적: 113.076\n",
      "c3의 면적: 78.53750000000001\n",
      "c1의 면적: 50.24\n"
     ]
    }
   ],
   "source": [
    "# 클래스 속성(class attribute): 인스턴스 마다 다름. 서로 다른 값 가짐\n",
    "# 클래스 속성(class attribute) == 인스턴스 변수(instance value)\n",
    "class Circle:\n",
    "    def __init__(self, name, radius, PI):\n",
    "        self.name = name\n",
    "        self.radius = radius\n",
    "        self.PI = PI\n",
    "    \n",
    "    # 현재 인스턴스의 PI에 반지름 **2을 곱하여 면적 구함\n",
    "    def area(self):\n",
    "        return self.PI * self.radius ** 2\n",
    "\n",
    "c1 = Circle('c1', 4, 3.14)\n",
    "print(\"c1의 면적:\", c1.area())\n",
    "c2 = Circle('c2', 6, 3.141)\n",
    "print(\"c2의 면적:\", c2.area())\n",
    "c3 = Circle('c3', 5, 3.1415)\n",
    "print(\"c3의 면적:\", c3.area())"
   ]
  },
  {
   "cell_type": "markdown",
   "metadata": {},
   "source": [
    "- 클래스 변수 __ dict __"
   ]
  },
  {
   "cell_type": "code",
   "execution_count": 37,
   "metadata": {},
   "outputs": [
    {
     "name": "stdout",
     "output_type": "stream",
     "text": [
      "c1의 면적: 50.24\n",
      "c2의 면적: 113.04\n",
      "c3의 면적: 78.5\n"
     ]
    }
   ],
   "source": [
    "# PI 값을 더욱 정밀한 값으로 변경하기 위해\n",
    "class Circle:\n",
    "    PI = 3.14 # 클래스 변수\n",
    "    def __init__(self, name, radius):\n",
    "        self.__name = name # 인스턴스 변수\n",
    "        self.__radius = radius # 인스턴스 변수\n",
    "    \n",
    "    # Circle 클래스의 변수 PI를 이용하여 면적을 구함\n",
    "    def area(self):\n",
    "        return Circle.PI * self.__radius ** 2\n",
    "    \n",
    "c1 = Circle('c1', 4)\n",
    "print(\"c1의 면적:\", c1.area())\n",
    "c2 = Circle('c2', 6)\n",
    "print(\"c2의 면적:\", c2.area())\n",
    "c3 = Circle('c3', 5)\n",
    "print(\"c3의 면적:\", c3.area())"
   ]
  },
  {
   "cell_type": "code",
   "execution_count": 40,
   "metadata": {},
   "outputs": [
    {
     "name": "stdout",
     "output_type": "stream",
     "text": [
      "c1의 속성들: {'name': 'c1', 'radius': 4}\n",
      "c1의 name  변수 값: c1\n",
      "c1의 radius  변수 값: 4\n"
     ]
    }
   ],
   "source": [
    "# __dict__ 속성은 프로그램을 작성할 때, 유용\n",
    "class Circle:\n",
    "    PI = 3.14\n",
    "    def __init__(self, name, radius):\n",
    "        self.name = name\n",
    "        self.radius = radius\n",
    "    \n",
    "c1 = Circle(\"c1\", 4)\n",
    "# __dict__\n",
    "print(\"c1의 속성들:\", c1.__dict__)\n",
    "# __dict__['Key'] 형식으로 value 얻을 수 있음\n",
    "print(\"c1의 name  변수 값:\", c1.__dict__['name'])\n",
    "print(\"c1의 radius  변수 값:\", c1.__dict__['radius'])"
   ]
  },
  {
   "cell_type": "code",
   "execution_count": 45,
   "metadata": {},
   "outputs": [
    {
     "name": "stdout",
     "output_type": "stream",
     "text": [
      "c1의 속성들: {'_Circle__name': 'c1', '_Circle__radius': 4}\n",
      "c1의 __name 변수 값: c1\n",
      "c1의 __radius 변수 값: 4\n"
     ]
    }
   ],
   "source": [
    "# _(언더스코어)로 시작하는 이름을 가진 인스턴스 변수가 있을 경우 접근 방법\n",
    "class Circle:\n",
    "    PI = 3.14\n",
    "    def __init__(self, name, radius):\n",
    "        self.__name = name\n",
    "        self.__radius = radius\n",
    "\n",
    "c1 = Circle(\"c1\", 4)\n",
    "print(\"c1의 속성들:\", c1.__dict__)\n",
    "print(\"c1의 __name 변수 값:\", c1.__dict__['_Circle__name'])\n",
    "print(\"c1의 __radius 변수 값:\", c1.__dict__['_Circle__radius'])"
   ]
  },
  {
   "cell_type": "code",
   "execution_count": 46,
   "metadata": {},
   "outputs": [
    {
     "name": "stdout",
     "output_type": "stream",
     "text": [
      "{'width': 100, 'height': 200}\n",
      "100\n"
     ]
    }
   ],
   "source": [
    "# 01. 다음 코드 수행 결과는?\n",
    "class Rect:\n",
    "    def __init__(self, width, height):\n",
    "        self.width = width\n",
    "        self.height = height\n",
    "r1 = Rect(100, 200)\n",
    "print(r1.__dict__)\n",
    "print(r1.__dict__['width'])\n",
    "\n",
    "# {'width':'100', 'height':'200'}\n",
    "# 100"
   ]
  },
  {
   "cell_type": "code",
   "execution_count": 47,
   "metadata": {},
   "outputs": [
    {
     "name": "stdout",
     "output_type": "stream",
     "text": [
      "{'_Rect__width': 100, '_Rect__height': 200}\n",
      "100\n"
     ]
    }
   ],
   "source": [
    "# 02. 다음 코드 수행 결과는?\n",
    "class Rect:\n",
    "    def __init__(self, width, height):\n",
    "        self.__width = width\n",
    "        self.__height = height\n",
    "r1 = Rect(100, 200)\n",
    "print(r1.__dict__)\n",
    "print(r1.__dict__['_Rect__width'])\n",
    "# {'_Rect__width':100, '_Rect__height':200}\n",
    "# 100"
   ]
  }
 ],
 "metadata": {
  "kernelspec": {
   "display_name": "Python 3",
   "language": "python",
   "name": "python3"
  },
  "language_info": {
   "codemirror_mode": {
    "name": "ipython",
    "version": 3
   },
   "file_extension": ".py",
   "mimetype": "text/x-python",
   "name": "python",
   "nbconvert_exporter": "python",
   "pygments_lexer": "ipython3",
   "version": "3.9.13"
  }
 },
 "nbformat": 4,
 "nbformat_minor": 2
}
