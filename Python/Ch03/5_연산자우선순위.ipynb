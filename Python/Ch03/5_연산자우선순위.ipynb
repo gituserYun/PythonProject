{
 "cells": [
  {
   "cell_type": "markdown",
   "metadata": {},
   "source": [
    "평균 구하기 - 연산자 우선순위"
   ]
  },
  {
   "cell_type": "code",
   "execution_count": 4,
   "metadata": {},
   "outputs": [
    {
     "name": "stdout",
     "output_type": "stream",
     "text": [
      "평균: 20.0\n"
     ]
    }
   ],
   "source": [
    "# 수식을 프로그램으로 구현하는 경우에는 연산자의 우선순위에 주의할 필요가 있다.\n",
    "# 사용자로부터 3개의 수를 입력받아서 평균값을 계산하여 출력하는 프로그램을 살피자\n",
    "x = int(input(\"첫 번째 수를 입력하시오: \"))\n",
    "y = int(input(\"두 번째 수를 입력하시오: \"))\n",
    "z = int(input(\"세 번째 수를 입력하시오: \"))\n",
    "\n",
    "avg = (x+y+z)/3\n",
    "print(\"평균:\", avg)"
   ]
  },
  {
   "cell_type": "code",
   "execution_count": 6,
   "metadata": {},
   "outputs": [
    {
     "name": "stdout",
     "output_type": "stream",
     "text": [
      "10 20 30\n"
     ]
    }
   ],
   "source": [
    "# map(function, iterable)\n",
    "# 두 번재 인자로 들어온 반복 가능한 자료형(리스트나 튜플)을 첫 번째 인자로 들어온 함수에 하나씩 집어 넣어서 함수 수행\n",
    "x, y, z = map(int, input('세 정수를 입력하시오: ').split())\n",
    "print(x, y, z)"
   ]
  }
 ],
 "metadata": {
  "kernelspec": {
   "display_name": "Python 3",
   "language": "python",
   "name": "python3"
  },
  "language_info": {
   "codemirror_mode": {
    "name": "ipython",
    "version": 3
   },
   "file_extension": ".py",
   "mimetype": "text/x-python",
   "name": "python",
   "nbconvert_exporter": "python",
   "pygments_lexer": "ipython3",
   "version": "3.10.2"
  }
 },
 "nbformat": 4,
 "nbformat_minor": 2
}
