{
 "cells": [
  {
   "cell_type": "markdown",
   "metadata": {},
   "source": [
    "> 비트 논리곱과 비트 논리합 연산자"
   ]
  },
  {
   "cell_type": "code",
   "execution_count": 3,
   "metadata": {},
   "outputs": [
    {
     "name": "stdout",
     "output_type": "stream",
     "text": [
      "15\n",
      "507\n",
      "65535\n"
     ]
    }
   ],
   "source": [
    "print(10|7) # 1010 | 0111 => 1111 => 15\n",
    "print(123 | 456)\n",
    "print(0xFFFF | 0x0000)"
   ]
  },
  {
   "cell_type": "code",
   "execution_count": 5,
   "metadata": {},
   "outputs": [
    {
     "name": "stdout",
     "output_type": "stream",
     "text": [
      "13\n",
      "435\n",
      "65535\n"
     ]
    }
   ],
   "source": [
    "# 배타적 논리합\n",
    "print(10^7)\n",
    "print(123^456)\n",
    "print(0xFFFF^0x0000)"
   ]
  },
  {
   "cell_type": "code",
   "execution_count": 8,
   "metadata": {},
   "outputs": [
    {
     "name": "stdout",
     "output_type": "stream",
     "text": [
      "41 & f = 1\n",
      "41 & f = 4f\n",
      "A ^ 32 = a\n",
      "a ^ 32 = A\n"
     ]
    }
   ],
   "source": [
    "# ord(): 특정한 한 문자를 아스키 코드 값으로 변환해주는 함수\n",
    "a = ord('A')\n",
    "mask = 0x0F\n",
    "\n",
    "print(\"%x & %x = %x\" % (a, mask, a & mask))\n",
    "print(\"%x & %x = %x\" % (a, mask, a | mask))\n",
    "mask = ord('a') - ord('A')\n",
    "\n",
    "b = a ^ mask\n",
    "print(\"%c ^ %d = %c\" % (a, mask, b))\n",
    "a = b ^ mask\n",
    "print(\"%c ^ %d = %c\" % (b, mask, a))"
   ]
  },
  {
   "cell_type": "code",
   "execution_count": 9,
   "metadata": {},
   "outputs": [
    {
     "name": "stdout",
     "output_type": "stream",
     "text": [
      "-12345\n"
     ]
    }
   ],
   "source": [
    "# 비트 부정 연산자(또는 보수 연산자)\n",
    "a = 12345\n",
    "print(~a+1)"
   ]
  },
  {
   "cell_type": "code",
   "execution_count": 11,
   "metadata": {},
   "outputs": [
    {
     "name": "stdout",
     "output_type": "stream",
     "text": [
      "20 40 80 160\n",
      "5 2 1 0\n"
     ]
    }
   ],
   "source": [
    "# 왼쪽 시프트 연산자: 왼쪽으로 시프트\n",
    "a = 10\n",
    "print(a<<1, a<<2, a<<3, a<<4)\n",
    "# 오른쪽 시프트 연산자\n",
    "print(a>>1, a>>2, a>>3, a>>4)\n"
   ]
  },
  {
   "cell_type": "code",
   "execution_count": 13,
   "metadata": {},
   "outputs": [
    {
     "name": "stdout",
     "output_type": "stream",
     "text": [
      "100 << 1 = 200\n",
      "100 << 2 = 400\n",
      "100 << 3 = 800\n",
      "100 << 4 = 1600\n"
     ]
    }
   ],
   "source": [
    "a = 100\n",
    "result = 0\n",
    "i = 0\n",
    "\n",
    "for i in range(1, 5):\n",
    "    result = a << i\n",
    "    print(\"%d << %d = %d\" % (a, i, result))"
   ]
  }
 ],
 "metadata": {
  "kernelspec": {
   "display_name": "Python 3",
   "language": "python",
   "name": "python3"
  },
  "language_info": {
   "codemirror_mode": {
    "name": "ipython",
    "version": 3
   },
   "file_extension": ".py",
   "mimetype": "text/x-python",
   "name": "python",
   "nbconvert_exporter": "python",
   "pygments_lexer": "ipython3",
   "version": "3.10.2"
  }
 },
 "nbformat": 4,
 "nbformat_minor": 2
}
