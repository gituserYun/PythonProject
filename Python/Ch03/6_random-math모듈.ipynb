{
 "cells": [
  {
   "cell_type": "markdown",
   "metadata": {},
   "source": [
    "> random 모듈과 math 모듈"
   ]
  },
  {
   "cell_type": "code",
   "execution_count": 2,
   "metadata": {},
   "outputs": [
    {
     "name": "stdout",
     "output_type": "stream",
     "text": [
      "27.0\n",
      "99.0\n",
      "0.999999327347282\n",
      "2.0\n",
      "3.141592653589793\n",
      "1.0\n"
     ]
    }
   ],
   "source": [
    "import math\n",
    "print(math.pow(3, 3)) # 3의 제곱\n",
    "print(math.fabs(-99)) # -99의 실수 절대값\n",
    "print(math.log(2.71828)) \n",
    "print(math.log(100, 10)) # 로그 10을 밑으로 하는 100의 값\n",
    "print(math.pi) # 원주율\n",
    "print(math.sin(math.pi / 2.0)) # sin() 함수의 인자로 PI/2.0를 넣어보자"
   ]
  },
  {
   "cell_type": "code",
   "execution_count": 22,
   "metadata": {},
   "outputs": [
    {
     "name": "stdout",
     "output_type": "stream",
     "text": [
      "0.6379510033017661\n",
      "1\n",
      "6\n",
      "8\n",
      "[10, 30, 40, 50, 20]\n"
     ]
    },
    {
     "data": {
      "text/plain": [
       "10"
      ]
     },
     "execution_count": 22,
     "metadata": {},
     "output_type": "execute_result"
    }
   ],
   "source": [
    "import random\n",
    "print(random.random())\n",
    "print(random.randint(1, 7)) # 1이상 7이하 임의의 정수 반환\n",
    "print(random.randrange(7)) # 0이상 7미만 임의의 정수 반환\n",
    "print(random.randrange(0, 10, 2)) # 0, 2, 4, 6, 8중 하나 반환\n",
    "lst = [10,20,30,40,50]\n",
    "random.shuffle(lst)\n",
    "print(lst)\n",
    "random.choice(lst)"
   ]
  }
 ],
 "metadata": {
  "kernelspec": {
   "display_name": "Python 3",
   "language": "python",
   "name": "python3"
  },
  "language_info": {
   "codemirror_mode": {
    "name": "ipython",
    "version": 3
   },
   "file_extension": ".py",
   "mimetype": "text/x-python",
   "name": "python",
   "nbconvert_exporter": "python",
   "pygments_lexer": "ipython3",
   "version": "3.10.2"
  }
 },
 "nbformat": 4,
 "nbformat_minor": 2
}
