{
 "cells": [
  {
   "cell_type": "markdown",
   "metadata": {},
   "source": [
    "> 산술 연산자 종류"
   ]
  },
  {
   "cell_type": "code",
   "execution_count": 3,
   "metadata": {},
   "outputs": [
    {
     "name": "stdout",
     "output_type": "stream",
     "text": [
      "101 101.123 100000000\n",
      "1001 100.1231\n"
     ]
    }
   ],
   "source": [
    "# //: 나누기(몫), %: 나머지 값, **: 제곱\n",
    "# 산술 연산을 하는 문자열과 숫자의 상호 변환\n",
    "s1, s2, s3 = \"100\", \"100.123\", \"99999999\"\n",
    "print(int(s1)+1, float(s2)+1, int(s3)+1)\n",
    "\n",
    "# 숫자를 문자열로 변환 str()\n",
    "a = 100; b = 100.123\n",
    "print(str(a) + '1', str(b) + '1')"
   ]
  },
  {
   "cell_type": "markdown",
   "metadata": {},
   "source": [
    "> 동전 교환 프로그램 완성"
   ]
  },
  {
   "cell_type": "code",
   "execution_count": 6,
   "metadata": {},
   "outputs": [
    {
     "name": "stdout",
     "output_type": "stream",
     "text": [
      "500원 짜리 ==> 3개\n",
      "100원 짜리 ==>3개\n",
      "50원 짜리 ==>1개\n",
      "10원 짜리 ==>3개\n",
      "바꾸지 못한 잔돈 ==> 1원\n"
     ]
    }
   ],
   "source": [
    "# 학습한 연산자를 활용해 동전 교환 프로그램 구현\n",
    "## 변수 선언 부분 ##\n",
    "money, c500, c100, c50, c10 = 0, 0, 0, 0, 0\n",
    "## 메인 코드 부분 ##\n",
    "money = int(input(\"교환할 돈은 얼마?\"))\n",
    "\n",
    "c500 = money // 500\n",
    "money %= 500\n",
    "\n",
    "c100 = money // 100\n",
    "money %= 100\n",
    "\n",
    "c50 = money // 50\n",
    "money %= 50\n",
    "\n",
    "c10 = money // 10\n",
    "money %= 10\n",
    "\n",
    "\n",
    "\n",
    "print(\"500원 짜리 ==> %d개\"%c500)\n",
    "print(\"100원 짜리 ==>%d개\"%c100)\n",
    "print(\"50원 짜리 ==>%d개\"%c50)\n",
    "print(\"10원 짜리 ==>%d개\"%c10)\n",
    "print(\"바꾸지 못한 잔돈 ==> %d원\"%money)"
   ]
  }
 ],
 "metadata": {
  "kernelspec": {
   "display_name": "Python 3",
   "language": "python",
   "name": "python3"
  },
  "language_info": {
   "codemirror_mode": {
    "name": "ipython",
    "version": 3
   },
   "file_extension": ".py",
   "mimetype": "text/x-python",
   "name": "python",
   "nbconvert_exporter": "python",
   "pygments_lexer": "ipython3",
   "version": "3.10.2"
  }
 },
 "nbformat": 4,
 "nbformat_minor": 2
}
