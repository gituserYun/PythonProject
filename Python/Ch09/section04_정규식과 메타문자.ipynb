{
 "cells": [
  {
   "cell_type": "markdown",
   "metadata": {},
   "source": [
    "- 정규식"
   ]
  },
  {
   "cell_type": "code",
   "execution_count": 1,
   "metadata": {},
   "outputs": [
    {
     "name": "stdout",
     "output_type": "stream",
     "text": [
      "<re.Match object; span=(0, 4), match='Life'>\n",
      "None\n",
      "Life 0 4 (0, 4)\n",
      "short\n"
     ]
    }
   ],
   "source": [
    "import re\n",
    "txt1 = 'Life is too short, you need python.'\n",
    "txt2 = 'The best moments of my life.'\n",
    "print(re.search('Life', txt1))\n",
    "print(re.search('Life', txt2))\n",
    "\n",
    "match = re.search('Life', txt1)\n",
    "result = match.group()\n",
    "re_start = match.start() # txt1 해당 문자의 시작 인덱스\n",
    "re_end = match.end() # txt1 해당 문자의 끝 인덱스\n",
    "re_span = match.span()\n",
    "print(result, re_start, re_end, re_span)\n",
    "print(txt1[12:17])"
   ]
  },
  {
   "cell_type": "markdown",
   "metadata": {},
   "source": [
    "- group() 예제"
   ]
  },
  {
   "cell_type": "code",
   "execution_count": 4,
   "metadata": {},
   "outputs": [
    {
     "name": "stdout",
     "output_type": "stream",
     "text": [
      "<re.Match object; span=(12, 25), match='010-1234-5678'>\n",
      "010-1234-5678\n",
      "010-1234-5678\n",
      "010\n",
      "1234-5678\n"
     ]
    }
   ],
   "source": [
    "import re\n",
    "\n",
    "text = \"Please call 010-1234-5678\"\n",
    "# group() 기능을 테스트하는 코드, 2개의 그룹 생성\n",
    "regex = re.compile('(\\d{3})-(\\d{4}-\\d{4})')\n",
    "match_obj = regex.search(text)\n",
    "print(match_obj)\n",
    "\n",
    "print(match_obj.group())\n",
    "print(match_obj.group(0))\n",
    "print(match_obj.group(1))\n",
    "print(match_obj.group(2))"
   ]
  },
  {
   "cell_type": "code",
   "execution_count": 25,
   "metadata": {},
   "outputs": [
    {
     "name": "stdout",
     "output_type": "stream",
     "text": [
      "None\n",
      "<re.Match object; span=(0, 4), match='ABBA'>\n",
      "None\n"
     ]
    }
   ],
   "source": [
    "# ^: 첫 문자를의미하는 문자\n",
    "# $: 문자열의 마지막 단어를 나타내는 정규식\n",
    "# ...\n",
    "ss = 'ABBA'\n",
    "print(re.search('A.A', ss))\n",
    "print(re.search('A..A', ss))\n",
    "print(re.search('A.BA', ss))"
   ]
  },
  {
   "cell_type": "code",
   "execution_count": 34,
   "metadata": {},
   "outputs": [
    {
     "name": "stdout",
     "output_type": "stream",
     "text": [
      "<re.Match object; span=(0, 1), match='A'>\n",
      "<re.Match object; span=(0, 1), match='A'>\n",
      "None\n",
      "<re.Match object; span=(0, 1), match='A'>\n",
      "<re.Match object; span=(1, 4), match='ABB'>\n",
      "<re.Match object; span=(1, 7), match='ABBBBB'>\n"
     ]
    }
   ],
   "source": [
    "print(re.search('AB*', 'A'))\n",
    "print(re.search('AB*', 'AA'))\n",
    "print(re.search('AB*', 'J-HOPE'))\n",
    "print(re.search('AB*', 'A-HOPE'))\n",
    "print(re.search('AB*', 'CABBA'))\n",
    "print(re.search('AB*', 'CABBBBBA'))"
   ]
  },
  {
   "cell_type": "code",
   "execution_count": 35,
   "metadata": {},
   "outputs": [
    {
     "name": "stdout",
     "output_type": "stream",
     "text": [
      "['My', 'my', 'my']\n"
     ]
    }
   ],
   "source": [
    "txt3 = 'My life my life my life in the sunshine'\n",
    "print(re.findall('[Mm]y',txt3))"
   ]
  },
  {
   "cell_type": "markdown",
   "metadata": {},
   "source": [
    "- 학사 코드 추출"
   ]
  },
  {
   "cell_type": "code",
   "execution_count": 36,
   "metadata": {},
   "outputs": [
    {
     "name": "stdout",
     "output_type": "stream",
     "text": [
      "['101', '102', '103']\n"
     ]
    }
   ],
   "source": [
    "import re\n",
    "text = '''101 COM PythonProgramming\n",
    "102 MAT LinearAlgebra\n",
    "103 ENG ComputerEnglish'''\n",
    "\n",
    "s = re.findall('\\d+',text)\n",
    "print(s)"
   ]
  },
  {
   "cell_type": "code",
   "execution_count": 50,
   "metadata": {},
   "outputs": [
    {
     "name": "stdout",
     "output_type": "stream",
     "text": [
      "['101', '102', '103', '104']\n"
     ]
    }
   ],
   "source": [
    "import re\n",
    "text = '''101 COM PythonProgramming\n",
    "102 MAT LinearAlgebra\n",
    "103 ENG ComputerEnglish\n",
    "104 Python Part1'''\n",
    "\n",
    "s = re.findall('(?m)^\\s*(\\d+)',text)\n",
    "print(s)"
   ]
  },
  {
   "cell_type": "code",
   "execution_count": 59,
   "metadata": {},
   "outputs": [
    {
     "name": "stdout",
     "output_type": "stream",
     "text": [
      "['COM ', 'MAT ', 'ENG ']\n"
     ]
    }
   ],
   "source": [
    "import re\n",
    "text = '''101 COM PythonProgramming\n",
    "102 MAT LinearAlgebra\n",
    "103 ENG ComputerEnglish\n",
    "104 Python Part1'''\n",
    "\n",
    "s = re.findall('[A-Z]+[^a-z]',text)\n",
    "print(s)"
   ]
  },
  {
   "cell_type": "markdown",
   "metadata": {},
   "source": [
    "- 이메일 주소 분석"
   ]
  },
  {
   "cell_type": "code",
   "execution_count": 66,
   "metadata": {},
   "outputs": [
    {
     "name": "stdout",
     "output_type": "stream",
     "text": [
      "추출된 이메일: ['abc@facebook.com', 'bbc@google.com']\n"
     ]
    }
   ],
   "source": [
    "import re\n",
    "\n",
    "txt = 'abc@facebook.com와 bbc@google.com에서 이메일이 도착'\n",
    "output = re.findall('\\S+@[a-z.]+',txt)\n",
    "print(f\"추출된 이메일: {output}\")"
   ]
  },
  {
   "cell_type": "code",
   "execution_count": null,
   "metadata": {},
   "outputs": [],
   "source": [
    "import re\n",
    "\n",
    "txt = 'abc@facebook.com와 bbc@google.com에서 이메일이 도착'\n",
    "id = re.findall('\\S+@[a-z.]+',txt)\n",
    "dom = re.findall('\\S+@[a-z.]+',txt)\n",
    "print(f\"추출된 아이디: {id}, 도메인: {dom}\")"
   ]
  },
  {
   "cell_type": "markdown",
   "metadata": {},
   "source": [
    "- 패스워드 검사"
   ]
  },
  {
   "cell_type": "code",
   "execution_count": 72,
   "metadata": {},
   "outputs": [
    {
     "name": "stdout",
     "output_type": "stream",
     "text": [
      "유효하지 않은 패스워드!\n",
      "유효한 패스워드!\n"
     ]
    }
   ],
   "source": [
    "import re\n",
    "# 최소 8글자\n",
    "# 적어도 하나의 영문자 대문자 및 소문자 포함\n",
    "# 적어도 하나의 숫자를 포함해야 함\n",
    "# 다음에 나타난 특수문자[_,@,$,!] 중 하나를 반드시 포함해야 함\n",
    "while True:\n",
    "    password = input(\"패스워드를 입력하세요 : \")\n",
    "    if len(password) < 8 or not re.search(\"[a-z]\", password) or \\\n",
    "        not re.search(\"[A-Z]\", password) or \\\n",
    "        not re.search(\"[0-9]\", password) or not re.search(\"[_@$!]\",password):\n",
    "        print(\"유효하지 않은 패스워드!\")\n",
    "    else:\n",
    "        print(\"유효한 패스워드!\")\n",
    "        break"
   ]
  },
  {
   "cell_type": "markdown",
   "metadata": {},
   "source": [
    "- 정규식에서 특정 문자를 대체하는 함수: sub()"
   ]
  },
  {
   "cell_type": "code",
   "execution_count": 73,
   "metadata": {},
   "outputs": [
    {
     "name": "stdout",
     "output_type": "stream",
     "text": [
      "I like Blank Pink\n"
     ]
    }
   ],
   "source": [
    "# re.sub('패턴','바꿀문자열','문자열',바꿀횟수)\n",
    "import re\n",
    "\n",
    "s = 'I like BTS!'\n",
    "print(re.sub('BTS!','Black Pink', s))\n"
   ]
  },
  {
   "cell_type": "code",
   "execution_count": 77,
   "metadata": {},
   "outputs": [
    {
     "name": "stdout",
     "output_type": "stream",
     "text": [
      "My lucky number * * *\n",
      "10 20 Fizz 40 Buzz 70 80\n",
      "10 20 Fizz 40 Buzz 70 80\n"
     ]
    }
   ],
   "source": [
    "# 교체함수(매치객체)\n",
    "# re.sub('패턴', 교체함수, '문자열', 바꿀횟수)\n",
    "s = 'My lucky number 2 7 99'\n",
    "print(re.sub('[0-9]+', '*', s))\n",
    "\n",
    "def multiple10(m):\n",
    "    n = int(m.group())\n",
    "    return str(n * 10)\n",
    "\n",
    "print(re.sub('[0-9]+', multiple10, '1 2 Fizz 4 Buzz 7 8'))\n",
    "print(re.sub('[0-9]+', lambda m: str(int(m.group())*10), '1 2 Fizz 4 Buzz 7 8'))"
   ]
  },
  {
   "cell_type": "code",
   "execution_count": 78,
   "metadata": {},
   "outputs": [
    {
     "name": "stdout",
     "output_type": "stream",
     "text": [
      "My lucky number 166 581 433\n"
     ]
    }
   ],
   "source": [
    "import re\n",
    "s = 'My lucky number 2 7 99'\n",
    "def hash_by_mult_and_modulo(m):\n",
    "    n = int(m.group())\n",
    "    return str(n*23435 % 973)\n",
    "\n",
    "print(re.sub('[0-9]+', hash_by_mult_and_modulo, s))"
   ]
  },
  {
   "cell_type": "markdown",
   "metadata": {},
   "source": [
    "- 트윗 메시지 정제"
   ]
  },
  {
   "cell_type": "code",
   "execution_count": 80,
   "metadata": {},
   "outputs": [],
   "source": [
    "import re\n",
    "\n",
    "tweet = input('트윗을 입력하시오: ') # Good Morning! RT @PythonUser I like Python #Python\n",
    "tweet = re.sub('RT', '', tweet)\n"
   ]
  },
  {
   "cell_type": "code",
   "execution_count": 82,
   "metadata": {},
   "outputs": [
    {
     "name": "stdout",
     "output_type": "stream",
     "text": [
      "Good Morning!   I like Python \n"
     ]
    }
   ],
   "source": [
    "import re\n",
    "# 특수문자, URL, 해쉬 태그, 이메일 주소, RT, CC 삭제\n",
    "# Good Morning! RT @PythonUser I like Python #Python\n",
    "tweet = input('트윗을 입력하시오: ')\n",
    "tweet = re.sub('RT', '', tweet)\n",
    "tweet = re.sub('#\\S+', '', tweet)\n",
    "tweet = re.sub('@\\S+', '', tweet)\n",
    "print(tweet)"
   ]
  }
 ],
 "metadata": {
  "kernelspec": {
   "display_name": "Python 3",
   "language": "python",
   "name": "python3"
  },
  "language_info": {
   "codemirror_mode": {
    "name": "ipython",
    "version": 3
   },
   "file_extension": ".py",
   "mimetype": "text/x-python",
   "name": "python",
   "nbconvert_exporter": "python",
   "pygments_lexer": "ipython3",
   "version": "3.10.2"
  }
 },
 "nbformat": 4,
 "nbformat_minor": 2
}
