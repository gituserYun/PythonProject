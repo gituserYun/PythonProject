{
 "cells": [
  {
   "cell_type": "markdown",
   "metadata": {},
   "source": [
    "- 워드 클라우드"
   ]
  },
  {
   "cell_type": "code",
   "execution_count": 12,
   "metadata": {},
   "outputs": [],
   "source": [
    "# import wikipedia\n",
    "# from wordcloud import WordCloud\n",
    "# import matplotlib.pyplot as plt\n",
    "\n",
    "# # 위키백과 사전 컨텐츠 제목 명시\n",
    "# wiki = wikipedia.page('Artificial intelligence')\n",
    "# # 이 페이지의 텍스트 컨텐츠 추출\n",
    "# text = wiki.content\n",
    "\n",
    "# Wordcloud = WordCloud(width = 2000, height = 1500, font_path=\"C:/Users/lty08/OneDrive/바탕 화면/glyphicons-halflings-regular.ttf\").generate(text)\n",
    "# plt.figure(figsize=(40,30))\n",
    "# # 화면에 이미지 그리기\n",
    "# plt.imshow(Wordcloud)\n",
    "# plt.show()\n"
   ]
  }
 ],
 "metadata": {
  "kernelspec": {
   "display_name": "Python 3",
   "language": "python",
   "name": "python3"
  },
  "language_info": {
   "codemirror_mode": {
    "name": "ipython",
    "version": 3
   },
   "file_extension": ".py",
   "mimetype": "text/x-python",
   "name": "python",
   "nbconvert_exporter": "python",
   "pygments_lexer": "ipython3",
   "version": "3.10.2"
  }
 },
 "nbformat": 4,
 "nbformat_minor": 2
}
