{
 "cells": [
  {
   "cell_type": "markdown",
   "metadata": {},
   "source": [
    "- 문자열 처리 함수"
   ]
  },
  {
   "cell_type": "code",
   "execution_count": 15,
   "metadata": {},
   "outputs": [
    {
     "name": "stdout",
     "output_type": "stream",
     "text": [
      "3\n",
      "16\n",
      "w : 119\n",
      ". : 46\n",
      "'w', '.'\n"
     ]
    }
   ],
   "source": [
    "# 문자열에서 count()는 문자열 중에서 부분 문자열 등장 횟수 반환\n",
    "s = 'www.booksr.co.kr'\n",
    "print(s.count('.'))\n",
    "\n",
    "# len()은 문자열 길이 반환\n",
    "print(len(s))\n",
    "\n",
    "# max(), min()을 사용하여 가장 큰 문자, 작은 문자 얻을 수 있음(유니코드 값 기준)\n",
    "print(max(s),\":\", ord(max(s)))\n",
    "print(min(s),\":\", ord(min(s)))\n",
    "print(f\"'{chr(119)}', '{chr(46)}'\")\n"
   ]
  },
  {
   "cell_type": "markdown",
   "metadata": {},
   "source": [
    "- string 모듈"
   ]
  },
  {
   "cell_type": "code",
   "execution_count": 21,
   "metadata": {},
   "outputs": [
    {
     "name": "stdout",
     "output_type": "stream",
     "text": [
      "src_str1 = ABCDEFGHIJKLMNOPQRSTUVWXYZ\n",
      "src_str2 = abcdefghijklmnopqrstuvwxyz\n",
      "dst_str1 = BCDEFGHIJKLMNOPQRSTUVWXYZA\n",
      "src_str1 문자 'A' 몇 번째 위치에 있는지 => 0\n",
      "dst_str1 문자에 src_str1 문자 위치였던 부분의 문자 => B\n"
     ]
    }
   ],
   "source": [
    "# 문자열 처리를 돕는 string 모듈\n",
    "# ascii_uppercase: 대문자\n",
    "# ascii_lowercase: 소문자\n",
    "import string\n",
    "src_str1 = string.ascii_uppercase\n",
    "src_str2 = string.ascii_lowercase\n",
    "print('src_str1 =', src_str1)\n",
    "print('src_str2 =', src_str2)\n",
    "\n",
    "# 'ABCD...YZ'까지 문자열 한 글자씩 이동하려면 'BCDE...ZA'\n",
    "# 슬라이싱 + 덧셈 연산\n",
    "dst_str1 = src_str1[1:] + src_str1[:1]\n",
    "print('dst_str1 =', dst_str1)\n",
    "\n",
    "# src_str1 문자 'A' 몇 번째 위치에 있는지 index()로 확인 후,\n",
    "# dst_str1 문자에 src_str1 문자 위치였던 부분의 문자 확인\n",
    "n = src_str1.index('A')\n",
    "print(f\"src_str1 문자 'A' 몇 번째 위치에 있는지 => {n}\")\n",
    "print(f\"dst_str1 문자에 src_str1 문자 위치였던 부분의 문자 => {dst_str1[n]}\")"
   ]
  },
  {
   "cell_type": "markdown",
   "metadata": {},
   "source": [
    "- 카이사르 암호 만들기"
   ]
  },
  {
   "cell_type": "code",
   "execution_count": 30,
   "metadata": {},
   "outputs": [
    {
     "name": "stdout",
     "output_type": "stream",
     "text": [
      "암호화된 문장: aWWDFN RQ PLGQLJKW\n"
     ]
    }
   ],
   "source": [
    "import string\n",
    "src_str = string.ascii_uppercase\n",
    "dst_str = src_str[3:] + src_str[:3]\n",
    "\n",
    "# 카이사르 암호화 함수\n",
    "def ciper(a):\n",
    "    idx = src_str.index(a)\n",
    "    return dst_str[idx]\n",
    "\n",
    "src = input('문장을 입력하시오: ') # ATTACK ON MIDNIGHT\n",
    "print('암호화된 문장: ', end='')\n",
    "\n",
    "for ch in src:\n",
    "    if ch in src_str:\n",
    "        print(ciper(ch), end='')\n",
    "    else:\n",
    "        print(ch, end='')\n",
    "        \n",
    "print()\n"
   ]
  },
  {
   "cell_type": "markdown",
   "metadata": {},
   "source": [
    "- 트위터 메시지 처리의 단어 추출"
   ]
  },
  {
   "cell_type": "code",
   "execution_count": 33,
   "metadata": {},
   "outputs": [
    {
     "name": "stdout",
     "output_type": "stream",
     "text": [
      "word count: 27\n",
      "[\"There's\", 'a', 'reason', 'a', 'some', 'people', 'are', 'working', 'to', 'make', 'it', 'harder', 'to', 'vote,', 'especially', 'for', 'people', 'of', 'color.', \"It's\", 'because', 'when', 'we', 'show', 'up,', 'things', 'change.']\n"
     ]
    }
   ],
   "source": [
    "# 문자열 t가 주어졌을 때, 이 문자열 내의 단어 개수를 출력\n",
    "t = \"There's a reason a some people are working to make it harder to vote, especially for people of color. It's because when we show up, things change.\"\n",
    "length = len(t.split(' '))\n",
    "print('word count:',length)"
   ]
  },
  {
   "cell_type": "code",
   "execution_count": 38,
   "metadata": {},
   "outputs": [
    {
     "name": "stdout",
     "output_type": "stream",
     "text": [
      "* Galaxy... * U+ ... * T1, * ...\n"
     ]
    }
   ],
   "source": [
    "t = \"Samsung Galaxy... LG U+ ... SKT T1, KT ...\"\n",
    "for word in ['Samsung', 'LG', 'SKT', 'KT']:\n",
    "    t = t.replace(word, '*')\n",
    "print(t)"
   ]
  },
  {
   "cell_type": "markdown",
   "metadata": {},
   "source": [
    "- 메시지 대소문자 변환"
   ]
  },
  {
   "cell_type": "code",
   "execution_count": 39,
   "metadata": {},
   "outputs": [
    {
     "name": "stdout",
     "output_type": "stream",
     "text": [
      "it's not the right time to conduct exams. ...\n"
     ]
    }
   ],
   "source": [
    "t = \"It's Not The Right Time To Conduct Exams. ...\"\n",
    "re_t = t.lower()\n",
    "print(re_t)"
   ]
  },
  {
   "cell_type": "code",
   "execution_count": 2,
   "metadata": {},
   "outputs": [
    {
     "name": "stdout",
     "output_type": "stream",
     "text": [
      "느낌표 갯수: 4\n",
      "대문자 갯수: 8\n"
     ]
    }
   ],
   "source": [
    "t = \"It's Not The Right Time To Conduct Exams!!!!\"\n",
    "\n",
    "cnt = 0\n",
    "for ch in t:\n",
    "    if ch.isupper() == True:\n",
    "        cnt += 1\n",
    "print(f\"느낌표 갯수: {t.count('!')}\\n대문자 갯수: {cnt}\")\n"
   ]
  },
  {
   "cell_type": "markdown",
   "metadata": {},
   "source": [
    "- OTP(1회용 패스워드)"
   ]
  },
  {
   "cell_type": "code",
   "execution_count": 53,
   "metadata": {},
   "outputs": [
    {
     "name": "stdout",
     "output_type": "stream",
     "text": [
      "865180864\n"
     ]
    }
   ],
   "source": [
    "import random\n",
    "\n",
    "n_digits = int(input('몇 자리 비밀번호 원하십니까?: '))\n",
    "otp = ''\n",
    "for i in range(n_digits):\n",
    "    otp += str(random.randrange(0,10))\n",
    "    \n",
    "print(otp)"
   ]
  }
 ],
 "metadata": {
  "kernelspec": {
   "display_name": "Python 3",
   "language": "python",
   "name": "python3"
  },
  "language_info": {
   "codemirror_mode": {
    "name": "ipython",
    "version": 3
   },
   "file_extension": ".py",
   "mimetype": "text/x-python",
   "name": "python",
   "nbconvert_exporter": "python",
   "pygments_lexer": "ipython3",
   "version": "3.10.2"
  }
 },
 "nbformat": 4,
 "nbformat_minor": 2
}
