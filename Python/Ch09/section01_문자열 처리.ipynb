{
 "cells": [
  {
   "cell_type": "markdown",
   "metadata": {},
   "source": [
    "- 문자열에서 개별 문자들 뽑기"
   ]
  },
  {
   "cell_type": "code",
   "execution_count": 8,
   "metadata": {},
   "outputs": [
    {
     "name": "stdout",
     "output_type": "stream",
     "text": [
      "s[0]-> M\n",
      "s[6:10]-> Pyth\n",
      "s[-12:-7]-> Monty\n",
      "t-> Monty Pyth\n",
      "s[-2:]-> on\n",
      "s[:-2] + s[-2:]-> Monty Python\n"
     ]
    }
   ],
   "source": [
    "s = 'Monty Python'\n",
    "print(f\"s[0]-> {s[0]}\")\n",
    "print(f\"s[6:10]-> {s[6:10]}\")\n",
    "print(f\"s[-12:-7]-> {s[-12:-7]}\")\n",
    "\n",
    "t = s[:-2]\n",
    "print(f\"t-> {t}\")\n",
    "print(f\"s[-2:]-> {s[-2:]}\")\n",
    "print(f\"s[:-2] + s[-2:]-> {s[:-2] + s[-2:]}\")"
   ]
  },
  {
   "cell_type": "markdown",
   "metadata": {},
   "source": [
    "- split() 메서드로 문자열 분할"
   ]
  },
  {
   "cell_type": "code",
   "execution_count": 13,
   "metadata": {},
   "outputs": [
    {
     "name": "stdout",
     "output_type": "stream",
     "text": [
      "['Welcom', 'to', 'Python']\n",
      "['2021', '08', '15']\n",
      "['Hello', ' World!']\n"
     ]
    }
   ],
   "source": [
    "s1 = 'Welcom to Python'\n",
    "print(s1.split())\n",
    "\n",
    "s2 = '2021.08.15'\n",
    "print(s2.split('.'))\n",
    "\n",
    "s3 = 'Hello, World!'\n",
    "print(s3.split(','))"
   ]
  },
  {
   "cell_type": "code",
   "execution_count": 14,
   "metadata": {},
   "outputs": [
    {
     "data": {
      "text/plain": [
       "['Welcom,', 'to', 'Python,', 'and,', 'bla,', 'bla']"
      ]
     },
     "execution_count": 14,
     "metadata": {},
     "output_type": "execute_result"
    }
   ],
   "source": [
    "# strip: 제거\n",
    "s = 'Welcom, to  Python, and,  bla, bla   '\n",
    "[x.strip() for x in s.split()]"
   ]
  },
  {
   "cell_type": "code",
   "execution_count": 15,
   "metadata": {},
   "outputs": [
    {
     "data": {
      "text/plain": [
       "['H', 'e', 'l', 'l', 'o', ',', ' ', 'W', 'o', 'r', 'l', 'd', '!']"
      ]
     },
     "execution_count": 15,
     "metadata": {},
     "output_type": "execute_result"
    }
   ],
   "source": [
    "# 문자열을 모두 개별 문자로 분해하기 위해서는 list()호출\n",
    "s = 'Hello, World!'\n",
    "list(s)"
   ]
  },
  {
   "cell_type": "markdown",
   "metadata": {},
   "source": [
    "- 문자열 이어 붙이기(join)"
   ]
  },
  {
   "cell_type": "code",
   "execution_count": 20,
   "metadata": {},
   "outputs": [
    {
     "name": "stdout",
     "output_type": "stream",
     "text": [
      "010-1234-5678\n",
      "010-1234-5678\n"
     ]
    }
   ],
   "source": [
    "# .으로 구분된 전화번호를 하이픈으로 고치기\n",
    "print('-'.join('010.1234.5678'.split('.')))\n",
    "print('010.1234.5678'.replace('.','-'))"
   ]
  },
  {
   "cell_type": "code",
   "execution_count": 21,
   "metadata": {},
   "outputs": [
    {
     "name": "stdout",
     "output_type": "stream",
     "text": [
      "hello world\n"
     ]
    }
   ],
   "source": [
    "# list()함수로 분리한 문자들 모아서 다시 원래 문자열로 만들기\n",
    "s = 'hello world'\n",
    "clist = list(s)\n",
    "print(''.join(clist))"
   ]
  },
  {
   "cell_type": "code",
   "execution_count": 26,
   "metadata": {},
   "outputs": [
    {
     "name": "stdout",
     "output_type": "stream",
     "text": [
      "['Actions', 'speak', 'louder', 'than', 'worlds']\n",
      "Actions speak louder than worlds\n"
     ]
    }
   ],
   "source": [
    "# split()와 join()을 함께 사용하면 문자열 중에서 필요 없는 공백 제거 가능\n",
    "a_string = 'Actions \\n\\t speak louder than worlds'\n",
    "word_list = a_string.split()\n",
    "print(word_list)\n",
    "refined_string = ' '.join(word_list)\n",
    "print(refined_string)"
   ]
  },
  {
   "cell_type": "markdown",
   "metadata": {},
   "source": [
    "- 대문자 소문자 변환, 문자열 삭제"
   ]
  },
  {
   "cell_type": "code",
   "execution_count": 38,
   "metadata": {},
   "outputs": [
    {
     "name": "stdout",
     "output_type": "stream",
     "text": [
      "hello, world!\n",
      "HELLO, WORLD!\n",
      "Hello world!\n",
      "hello, World\n",
      "hello, World####\n",
      "####hello, World\n",
      "Hello, world\n"
     ]
    }
   ],
   "source": [
    "# 대문자 -> 소문자 : lower()\n",
    "# 소문자 -> 대문자 : upper()\n",
    "# 첫 문자만 대문자 변환 : capitalize()\n",
    "s = 'Hello, World!'\n",
    "print(s.lower())\n",
    "print(s.upper())\n",
    "t = 'hello world!'\n",
    "print(t.capitalize())\n",
    "\n",
    "# 문자열 데이터 처리 시, 문자열 원치 않는 부분은 strip()\n",
    "s1 = '####hello, World####'\n",
    "print(s1.strip('#'))\n",
    "print(s1.lstrip('#'))\n",
    "print(s1.rstrip('#'))\n",
    "\n",
    "print(s1.strip('#').capitalize())"
   ]
  },
  {
   "cell_type": "code",
   "execution_count": 40,
   "metadata": {},
   "outputs": [
    {
     "name": "stdout",
     "output_type": "stream",
     "text": [
      "13\n",
      "-1\n"
     ]
    }
   ],
   "source": [
    "# find() : 문자열에서 지정된 부분 문자열 찾아서 그 인덱스 반환\n",
    "s = 'www.booksr.co.kr'\n",
    "print(s.find('.kr'))\n",
    "print(s.find('x')) # 해당 문자열이 없을 경우 -1 반환"
   ]
  }
 ],
 "metadata": {
  "kernelspec": {
   "display_name": "Python 3",
   "language": "python",
   "name": "python3"
  },
  "language_info": {
   "codemirror_mode": {
    "name": "ipython",
    "version": 3
   },
   "file_extension": ".py",
   "mimetype": "text/x-python",
   "name": "python",
   "nbconvert_exporter": "python",
   "pygments_lexer": "ipython3",
   "version": "3.10.2"
  }
 },
 "nbformat": 4,
 "nbformat_minor": 2
}
